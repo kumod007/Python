{
 "cells": [
  {
   "cell_type": "markdown",
   "id": "18fdab2a",
   "metadata": {},
   "source": [
    "### You have 34 heads annd 94 legs of hen and Rabbit. Write a program to calculate how many hens and rabbits"
   ]
  },
  {
   "cell_type": "code",
   "execution_count": 1,
   "id": "e79137b7",
   "metadata": {},
   "outputs": [
    {
     "name": "stdout",
     "output_type": "stream",
     "text": [
      "Enter total no of heads: 34\n",
      "Enter total no of legs: 94\n"
     ]
    }
   ],
   "source": [
    "heads = int(input(\"Enter total no of heads: \"))\n",
    "legs = int(input(\"Enter total no of legs: \"))"
   ]
  },
  {
   "cell_type": "code",
   "execution_count": 19,
   "id": "53908fcf",
   "metadata": {},
   "outputs": [],
   "source": [
    "rabbits = (legs-2*heads)//2\n",
    "hens = heads-rabbits"
   ]
  },
  {
   "cell_type": "code",
   "execution_count": 20,
   "id": "a29d0b2e",
   "metadata": {},
   "outputs": [
    {
     "name": "stdout",
     "output_type": "stream",
     "text": [
      "There are 21 hens and 13 rabbits\n"
     ]
    }
   ],
   "source": [
    "print(f\"There are {hens} hens and {rabbits} rabbits\")"
   ]
  },
  {
   "cell_type": "code",
   "execution_count": null,
   "id": "c2bf1150",
   "metadata": {},
   "outputs": [],
   "source": []
  }
 ],
 "metadata": {
  "kernelspec": {
   "display_name": "Python 3 (ipykernel)",
   "language": "python",
   "name": "python3"
  },
  "language_info": {
   "codemirror_mode": {
    "name": "ipython",
    "version": 3
   },
   "file_extension": ".py",
   "mimetype": "text/x-python",
   "name": "python",
   "nbconvert_exporter": "python",
   "pygments_lexer": "ipython3",
   "version": "3.9.12"
  }
 },
 "nbformat": 4,
 "nbformat_minor": 5
}
