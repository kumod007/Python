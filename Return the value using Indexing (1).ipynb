{
 "cells": [
  {
   "cell_type": "markdown",
   "id": "53ac7a5f",
   "metadata": {},
   "source": [
    "### Question:\n",
    "**variable=[\"Bus\", \"car\", {\"Bus\":[\"car\", \"bus\", {\"car\":\"bus\", \"Car\":[\"bus\", \"car\", [\"BMW\"]],},\"Bus\"]},\"Bus\"]\n",
    "print BMW as a string output**\n"
   ]
  },
  {
   "cell_type": "code",
   "execution_count": 16,
   "id": "f447387d",
   "metadata": {},
   "outputs": [
    {
     "name": "stdout",
     "output_type": "stream",
     "text": [
      "BMW\n"
     ]
    }
   ],
   "source": [
    "variable = [\"Bus\", \"car\", {\"Bus\": [\"car\", \"bus\", {\"car\": \"bus\", \"Car\": [\"bus\", \"car\", [\"BMW\"]]},\"Bus\"]},\"Bus\"]\n",
    "\n",
    "value = variable[2][\"Bus\"][2][\"Car\"][2][0]\n",
    "print(value)"
   ]
  }
 ],
 "metadata": {
  "kernelspec": {
   "display_name": "Python 3 (ipykernel)",
   "language": "python",
   "name": "python3"
  },
  "language_info": {
   "codemirror_mode": {
    "name": "ipython",
    "version": 3
   },
   "file_extension": ".py",
   "mimetype": "text/x-python",
   "name": "python",
   "nbconvert_exporter": "python",
   "pygments_lexer": "ipython3",
   "version": "3.9.12"
  }
 },
 "nbformat": 4,
 "nbformat_minor": 5
}
