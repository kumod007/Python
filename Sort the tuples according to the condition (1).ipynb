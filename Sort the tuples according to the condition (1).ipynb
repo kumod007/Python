{
 "cells": [
  {
   "cell_type": "markdown",
   "id": "67d2eee2",
   "metadata": {},
   "source": [
    "You are required to write a program to sort the (name, age, height) tuples by ascending order where name is string, age and height are numbers. The tuples are input by console. The sort criteria is:\n",
    "\n",
    "1: Sort based on name;\n",
    "\n",
    "2: Then sort based on age;\n",
    "\n",
    "3: Then sort by score.\n",
    " \n",
    "The priority is that name > age > score.\n",
    "\n",
    "If the following tuples are given as input to the program:\n",
    "\n",
    "Tom,19,80\n",
    "\n",
    "John,20,90\n",
    "\n",
    "Jony,17,91\n",
    "\n",
    "Jony,17,93\n",
    "\n",
    "Json,21,85\n",
    "\n",
    "Then, the output of the program should be:\n",
    "\n",
    "[('John', '20', '90'), ('Jony', '17', '91'), ('Jony', '17', '93'), ('Json', '21', '85'), ('Tom', '19', '80')]"
   ]
  },
  {
   "cell_type": "code",
   "execution_count": 1,
   "id": "9f05addd",
   "metadata": {},
   "outputs": [
    {
     "name": "stdout",
     "output_type": "stream",
     "text": [
      "How many entries you want: 5\n",
      "Enter person's age: Tom\n",
      "Enter persons age: 19\n",
      "Enter person's score: 80\n",
      "Enter person's age: John\n",
      "Enter persons age: 20\n",
      "Enter person's score: 90\n",
      "Enter person's age: Jony\n",
      "Enter persons age: 17\n",
      "Enter person's score: 91\n",
      "Enter person's age: Jony\n",
      "Enter persons age: 17\n",
      "Enter person's score: 93\n",
      "Enter person's age: Json\n",
      "Enter persons age: 21\n",
      "Enter person's score: 85\n",
      "[('John', 20, 90), ('Jony', 17, 91), ('Jony', 17, 93), ('Json', 21, 85), ('Tom', 19, 80)]\n"
     ]
    }
   ],
   "source": [
    "n = int(input(\"How many entries you want: \"))\n",
    "list1 = []\n",
    "\n",
    "for i in range(n):\n",
    "    name = str(input(\"Enter person's age: \"))\n",
    "    age = int(input(\"Enter persons age: \"))\n",
    "    score = int(input(\"Enter person's score: \"))\n",
    "    list1.append((name,age,score))\n",
    "    \n",
    "list2 = sorted(list1)\n",
    "print(list2)"
   ]
  },
  {
   "cell_type": "code",
   "execution_count": null,
   "id": "afa8f94d",
   "metadata": {},
   "outputs": [],
   "source": []
  },
  {
   "cell_type": "code",
   "execution_count": null,
   "id": "bd5bc66a",
   "metadata": {},
   "outputs": [],
   "source": []
  }
 ],
 "metadata": {
  "kernelspec": {
   "display_name": "Python 3 (ipykernel)",
   "language": "python",
   "name": "python3"
  },
  "language_info": {
   "codemirror_mode": {
    "name": "ipython",
    "version": 3
   },
   "file_extension": ".py",
   "mimetype": "text/x-python",
   "name": "python",
   "nbconvert_exporter": "python",
   "pygments_lexer": "ipython3",
   "version": "3.9.12"
  }
 },
 "nbformat": 4,
 "nbformat_minor": 5
}
