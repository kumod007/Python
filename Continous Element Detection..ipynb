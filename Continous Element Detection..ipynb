{
 "cells": [
  {
   "cell_type": "markdown",
   "id": "9178c60a",
   "metadata": {},
   "source": [
    "## Continous Element Detection."
   ]
  },
  {
   "cell_type": "markdown",
   "id": "6e541312",
   "metadata": {},
   "source": [
    "Find if there are continuous 7 times 1 or 7 times 0 in the given inputs. \n",
    "\n",
    "If you find seven times 0 or 1 in the string print Yes else print No \n",
    " \n",
    "For example, the string 00100110111111101 is \"yes\"  and 11110111011101 is \"no\"."
   ]
  },
  {
   "cell_type": "markdown",
   "id": "b649d4ef",
   "metadata": {},
   "source": [
    "### Code 1:-"
   ]
  },
  {
   "cell_type": "code",
   "execution_count": 1,
   "id": "508987d2",
   "metadata": {},
   "outputs": [
    {
     "name": "stdout",
     "output_type": "stream",
     "text": [
      "Enter your string values in 0 or 1: 00100110111111101\n",
      "YES\n"
     ]
    }
   ],
   "source": [
    "x = str(input(\"Enter your string values in 0 or 1: \"))\n",
    "\n",
    "list0 = x.split(\"1\")\n",
    "list1 = x.split(\"0\")\n",
    "\n",
    "list0.append(list1)\n",
    "\n",
    "for i in list0:\n",
    "    if len(i) == 7:\n",
    "        print(\"YES\")\n",
    "        break\n",
    "else:\n",
    "    print(\"NO\")"
   ]
  },
  {
   "cell_type": "markdown",
   "id": "f4d17c86",
   "metadata": {},
   "source": [
    "### Code 2:-"
   ]
  },
  {
   "cell_type": "code",
   "execution_count": 2,
   "id": "b765a5cd",
   "metadata": {},
   "outputs": [
    {
     "name": "stdout",
     "output_type": "stream",
     "text": [
      "Enter your string values in 0 or 1: 1110010000100\n",
      "No\n"
     ]
    }
   ],
   "source": [
    "x = str(input(\"Enter your string values in 0 or 1: \"))\n",
    "\n",
    "a= \"1111111\"\n",
    "b= \"0000000\"\n",
    "z=7\n",
    "\n",
    "for i in range(len(x)):\n",
    "    if (x[i:z+i]==a) or (x[i:z+i]==b):\n",
    "        print(\"Yes\")\n",
    "        break\n",
    "else:\n",
    "    print(\"No\")"
   ]
  },
  {
   "cell_type": "markdown",
   "id": "134d0f00",
   "metadata": {},
   "source": [
    "### Code 3:-"
   ]
  },
  {
   "cell_type": "code",
   "execution_count": 4,
   "id": "938d2911",
   "metadata": {},
   "outputs": [
    {
     "name": "stdout",
     "output_type": "stream",
     "text": [
      "Enter your string values in 0 or 1: 1111111\n",
      "Yes\n"
     ]
    }
   ],
   "source": [
    "x = str(input(\"Enter your string values in 0 or 1: \"))\n",
    "\n",
    "a= \"1111111\"\n",
    "b= \"0000000\"\n",
    "\n",
    "if (a or b) in x:\n",
    "    print(\"Yes\")\n",
    "else:\n",
    "    print(\"No\")"
   ]
  }
 ],
 "metadata": {
  "kernelspec": {
   "display_name": "Python 3 (ipykernel)",
   "language": "python",
   "name": "python3"
  },
  "language_info": {
   "codemirror_mode": {
    "name": "ipython",
    "version": 3
   },
   "file_extension": ".py",
   "mimetype": "text/x-python",
   "name": "python",
   "nbconvert_exporter": "python",
   "pygments_lexer": "ipython3",
   "version": "3.9.12"
  }
 },
 "nbformat": 4,
 "nbformat_minor": 5
}
