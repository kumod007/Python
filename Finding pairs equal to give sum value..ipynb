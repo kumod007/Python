{
 "cells": [
  {
   "cell_type": "markdown",
   "id": "ae90dace",
   "metadata": {},
   "source": [
    "### Find all pairs with a given sum from two arrays."
   ]
  },
  {
   "cell_type": "markdown",
   "id": "9d2f6aa6",
   "metadata": {},
   "source": [
    "Given two unsorted arrays A of size N and B of size M of distinct elements, the task is to find all pairs from both arrays whose sum is equal to X.\n",
    "\n",
    "Note: All pairs should be printed in increasing order of u. For eg. for two pairs (u1,v1) and (u2,v2), if u1 < u2 then\n",
    "(u1,v1) should be printed first else second.\n",
    "\n",
    "Example 1:\n",
    "\n",
    "Input:\n",
    "\n",
    "A[] = {1, 2, 4, 5, 7}\n",
    "\n",
    "B[] = {5, 6, 3, 4, 8} \n",
    "\n",
    "X = 9 \n",
    "\n",
    "Output: \n",
    "\n",
    "1 8\n",
    "\n",
    "4 5 \n",
    "\n",
    "5 4\n",
    "\n",
    "Explanation:(1, 8), (4, 5), (5, 4) are the pairs which sum to 9."
   ]
  },
  {
   "cell_type": "markdown",
   "id": "532ce1d7",
   "metadata": {},
   "source": [
    "INPUT 2:\n",
    "    \n",
    "A = [-113 147 65 37 6 -27 -73 109 31 -8 -102 -74 -183 -186 131 40 150 -123 -111 -91 176 170 -4 -165 -49 93 -68 142 171 98 -60 -196 99 69 138 -20 -143 -63 129 -158 -103 -30 73 32 151 136 82 -150 -31 -37 -164 101 -69 -62 -100 -14 111 -97 119 -137 68 -130 -127 -161 124]\n",
    "\n",
    "B = [-122 102 -67 152 -169 48 -52 -134 33 -91 188 6 -148 -109 -35 64 32 75 198 22 65 -168 185 -66 -127 -147 145 -29 104 51 93 71 129 39 76 10 70]\n",
    "\n",
    "X = 2\n",
    "\n",
    "OUTPUT:\n",
    "\n",
    "-196 198, -186 188, -183 185, -150 152, -143 145, -127 129, -102 104, -100 102, -91 93, -74 76, -73 75, -69 71, -68 70, -63 65, -62 64, -49 51, -37 39, -31 33, -30 32, -20 22, -8 10, -4 6, 31 -29, 37 -35, 68 -66, 69 -67, 93 -91, 111 -109, 124 -122, 129 -127, 136 -134, 150 -148, 170 -168, 171 -169\n"
   ]
  },
  {
   "cell_type": "code",
   "execution_count": 7,
   "id": "9c7b38f1",
   "metadata": {},
   "outputs": [
    {
     "name": "stdout",
     "output_type": "stream",
     "text": [
      "Enter values for first list: -113 147 65 37 6 -27 -73 109 31 -8 -102 -74 -183 -186 131 40 150 -123 -111 -91 176 170 -4 -165 -49 93 -68 142 171 98 -60 -196 99 69 138 -20 -143 -63 129 -158 -103 -30 73 32 151 136 82 -150 -31 -37 -164 101 -69 -62 -100 -14 111 -97 119 -137 68 -130 -127 -161 124\n",
      "Enter values for second list: -122 102 -67 152 -169 48 -52 -134 33 -91 188 6 -148 -109 -35 64 32 75 198 22 65 -168 185 -66 -127 -147 145 -29 104 51 93 71 129 39 76 10 70\n",
      "Enter sum value: 2\n"
     ]
    }
   ],
   "source": [
    "A = list(map(int,input(\"Enter values for first list: \").split()))\n",
    "B = list(map(int,input(\"Enter values for second list: \").split()))\n",
    "X = int(input(\"Enter sum value: \"))"
   ]
  },
  {
   "cell_type": "code",
   "execution_count": 27,
   "id": "6c867cac",
   "metadata": {},
   "outputs": [],
   "source": [
    "class solution:\n",
    "    def sum_pairs(self,A,B,X):\n",
    "        pairs = []\n",
    "        \n",
    "        for i in A:\n",
    "            for j in B:\n",
    "                if i+j ==X:\n",
    "                    pairs.append([i,j])\n",
    "        pairs2 = sorted(pairs)\n",
    "        return pairs2"
   ]
  },
  {
   "cell_type": "code",
   "execution_count": 28,
   "id": "81695711",
   "metadata": {},
   "outputs": [],
   "source": [
    "ob=solution()"
   ]
  },
  {
   "cell_type": "code",
   "execution_count": 29,
   "id": "744bf2c0",
   "metadata": {},
   "outputs": [
    {
     "data": {
      "text/plain": [
       "[[-196, 198],\n",
       " [-186, 188],\n",
       " [-183, 185],\n",
       " [-150, 152],\n",
       " [-143, 145],\n",
       " [-127, 129],\n",
       " [-102, 104],\n",
       " [-100, 102],\n",
       " [-91, 93],\n",
       " [-74, 76],\n",
       " [-73, 75],\n",
       " [-69, 71],\n",
       " [-68, 70],\n",
       " [-63, 65],\n",
       " [-62, 64],\n",
       " [-49, 51],\n",
       " [-37, 39],\n",
       " [-31, 33],\n",
       " [-30, 32],\n",
       " [-20, 22],\n",
       " [-8, 10],\n",
       " [-4, 6],\n",
       " [31, -29],\n",
       " [37, -35],\n",
       " [68, -66],\n",
       " [69, -67],\n",
       " [93, -91],\n",
       " [111, -109],\n",
       " [124, -122],\n",
       " [129, -127],\n",
       " [136, -134],\n",
       " [150, -148],\n",
       " [170, -168],\n",
       " [171, -169]]"
      ]
     },
     "execution_count": 29,
     "metadata": {},
     "output_type": "execute_result"
    }
   ],
   "source": [
    "ob.sum_pairs(A,B,X)"
   ]
  },
  {
   "cell_type": "code",
   "execution_count": null,
   "id": "3ac16928",
   "metadata": {},
   "outputs": [],
   "source": []
  }
 ],
 "metadata": {
  "kernelspec": {
   "display_name": "Python 3 (ipykernel)",
   "language": "python",
   "name": "python3"
  },
  "language_info": {
   "codemirror_mode": {
    "name": "ipython",
    "version": 3
   },
   "file_extension": ".py",
   "mimetype": "text/x-python",
   "name": "python",
   "nbconvert_exporter": "python",
   "pygments_lexer": "ipython3",
   "version": "3.9.12"
  }
 },
 "nbformat": 4,
 "nbformat_minor": 5
}
