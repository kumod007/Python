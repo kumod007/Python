{
 "cells": [
  {
   "cell_type": "markdown",
   "id": "d6906c3d",
   "metadata": {},
   "source": [
    "### Question No 20"
   ]
  },
  {
   "cell_type": "markdown",
   "id": "c2d62311",
   "metadata": {},
   "source": [
    "* You need to lower all the characters in the given string   s = \"A man, A plan, A goodman:\"\n",
    "  and remove all non-alphanumeric characters from the string and check after removing if the string is palindrome or not. "
   ]
  },
  {
   "cell_type": "markdown",
   "id": "393d178d",
   "metadata": {},
   "source": [
    "### Code 1"
   ]
  },
  {
   "cell_type": "code",
   "execution_count": 7,
   "id": "14d44ec5",
   "metadata": {},
   "outputs": [
    {
     "name": "stdout",
     "output_type": "stream",
     "text": [
      "Enter your string value: A man, A plan, A goodman:\n",
      "The string is not Pallindrome\n"
     ]
    }
   ],
   "source": [
    "s = str(input(\"Enter your string value: \")).lower()\n",
    "x = \"\"\n",
    "\n",
    "for i in s:\n",
    "    if i.isalnum():\n",
    "        x+=i\n",
    "if x==x[::-1]:\n",
    "    print(\"The String is Pallindrome\")\n",
    "else:\n",
    "    print(\"The string is not Pallindrome\")"
   ]
  },
  {
   "cell_type": "markdown",
   "id": "0617bfdb",
   "metadata": {},
   "source": [
    "### Code 2"
   ]
  },
  {
   "cell_type": "code",
   "execution_count": 9,
   "id": "5c926e9c",
   "metadata": {},
   "outputs": [
    {
     "name": "stdout",
     "output_type": "stream",
     "text": [
      "Enter your string value: A man, A plan, A goodman:\n",
      "The string is not pallindrome\n"
     ]
    }
   ],
   "source": [
    "s = str(input(\"Enter your string value: \")).lower()\n",
    "x = \"\"\n",
    "z = \"\"\n",
    "\n",
    "for i in s:\n",
    "    if i.isalnum():\n",
    "        x+=i\n",
    "\n",
    "for j in range(len(x)-1,-1,-1):\n",
    "    z+=x[j]\n",
    "if x==z:\n",
    "    print(\"The string is Pallindrome\")\n",
    "else:\n",
    "    print(\"The string is not pallindrome\")"
   ]
  },
  {
   "cell_type": "code",
   "execution_count": null,
   "id": "240ded95",
   "metadata": {},
   "outputs": [],
   "source": []
  }
 ],
 "metadata": {
  "kernelspec": {
   "display_name": "Python 3 (ipykernel)",
   "language": "python",
   "name": "python3"
  },
  "language_info": {
   "codemirror_mode": {
    "name": "ipython",
    "version": 3
   },
   "file_extension": ".py",
   "mimetype": "text/x-python",
   "name": "python",
   "nbconvert_exporter": "python",
   "pygments_lexer": "ipython3",
   "version": "3.9.12"
  }
 },
 "nbformat": 4,
 "nbformat_minor": 5
}
