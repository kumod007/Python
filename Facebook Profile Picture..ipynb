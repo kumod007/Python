{
 "cells": [
  {
   "cell_type": "markdown",
   "id": "9df92316",
   "metadata": {},
   "source": [
    "## Facebook Profile Picture."
   ]
  },
  {
   "cell_type": "markdown",
   "id": "955ed3b2",
   "metadata": {},
   "source": [
    "Roy wants to change his profile picture on Facebook. Now Facebook has some restriction over the dimension of picture that we can upload. Minimum dimension of the picture can be L x L, where L is the length of the side of square.Now Roy has N photos of various dimensions. Dimension of a photo is denoted as W x H where W - width of the photo and H - Height of the photo\n",
    "\n",
    "When any photo is uploaded following events may occur:\n",
    "\n",
    "If any of the width or height is less than L, user is prompted to upload another one. Print \"UPLOAD ANOTHER\" in this case.\n",
    "If width and height, both are large enough and\n",
    "if the photo is already square then it is accepted. Print \"ACCEPTED\" in this case.\n",
    "else user is prompted to crop it. Print \"CROP IT\" in this case.\n",
    "(quotes are only for clarification)\n",
    "\n",
    "Given L, N, W and H as input, print appropriate text as output.\n",
    "\n",
    "Input:\n",
    "First line contains L.\n",
    "Second line contains N, number of photos.\n",
    "Following N lines each contains two space separated integers W and H.\n",
    "\n",
    "Output:\n",
    "Print appropriate text for each photo in a new line.\n",
    "\n",
    "\n",
    "Sample Input   :    Sample Output                  \n",
    "1. 180\n",
    "2. 3\n",
    "3. 640 480     :       Crop Your Picture\n",
    "4. 120 300     :       Upload Another\n",
    "5. 180 180     :       Accepted"
   ]
  },
  {
   "cell_type": "markdown",
   "id": "baf2986d",
   "metadata": {},
   "source": [
    "# CODE"
   ]
  },
  {
   "cell_type": "code",
   "execution_count": 1,
   "id": "241a3153",
   "metadata": {},
   "outputs": [
    {
     "name": "stdout",
     "output_type": "stream",
     "text": [
      "Enter the length of the profile picture: 180\n",
      "Enter number of pictures you have: 3\n",
      "Enter the width of the profile picture: 640\n",
      "Enter the height of the profile picture: 480\n",
      "Crop your Profile Picture\n",
      "Enter the width of the profile picture: 120\n",
      "Enter the height of the profile picture: 300\n",
      "Upload Another Profile Picture\n",
      "Enter the width of the profile picture: 180\n",
      "Enter the height of the profile picture: 180\n",
      "Profile Picture is Accepted\n"
     ]
    }
   ],
   "source": [
    "L = int(input(\"Enter the length of the profile picture: \"))\n",
    "N = int(input(\"Enter number of pictures you have: \"))\n",
    "\n",
    "for i in range(N):\n",
    "    W = int(input(\"Enter the width of the profile picture: \"))\n",
    "    H = int(input(\"Enter the height of the profile picture: \"))\n",
    "    \n",
    "    if (W<L) or (H<L):\n",
    "        print(\"Upload Another Profile Picture\")\n",
    "    else:\n",
    "        if (W==L) or (H==L):\n",
    "            print(\"Profile Picture is Accepted\")\n",
    "        else:\n",
    "            print(\"Crop your Profile Picture\")"
   ]
  },
  {
   "cell_type": "code",
   "execution_count": null,
   "id": "f86e1f4b",
   "metadata": {},
   "outputs": [],
   "source": []
  }
 ],
 "metadata": {
  "kernelspec": {
   "display_name": "Python 3 (ipykernel)",
   "language": "python",
   "name": "python3"
  },
  "language_info": {
   "codemirror_mode": {
    "name": "ipython",
    "version": 3
   },
   "file_extension": ".py",
   "mimetype": "text/x-python",
   "name": "python",
   "nbconvert_exporter": "python",
   "pygments_lexer": "ipython3",
   "version": "3.9.12"
  }
 },
 "nbformat": 4,
 "nbformat_minor": 5
}
