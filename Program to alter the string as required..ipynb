{
 "cells": [
  {
   "cell_type": "markdown",
   "id": "c3517ffb",
   "metadata": {},
   "source": [
    "### Question:"
   ]
  },
  {
   "cell_type": "markdown",
   "id": "9794df97",
   "metadata": {},
   "source": [
    "* Arrange the string such that lowercases should come first. Eg: MadrID – adrIDM"
   ]
  },
  {
   "cell_type": "markdown",
   "id": "bdba95e8",
   "metadata": {},
   "source": [
    "### Code:"
   ]
  },
  {
   "cell_type": "code",
   "execution_count": 5,
   "id": "b8ead919",
   "metadata": {},
   "outputs": [
    {
     "name": "stdout",
     "output_type": "stream",
     "text": [
      "Enter your string: MadrID\n",
      "adrMID\n"
     ]
    }
   ],
   "source": [
    "x = str(input(\"Enter your string: \"))\n",
    "y = \"\"\n",
    "z = \"\"\n",
    "\n",
    "\n",
    "for i in x:\n",
    "    if i.islower():\n",
    "        y+=i\n",
    "    else:\n",
    "        z+=i\n",
    "z = (y+z)\n",
    "print(z)"
   ]
  },
  {
   "cell_type": "code",
   "execution_count": null,
   "id": "0252fd62",
   "metadata": {},
   "outputs": [],
   "source": []
  }
 ],
 "metadata": {
  "kernelspec": {
   "display_name": "Python 3 (ipykernel)",
   "language": "python",
   "name": "python3"
  },
  "language_info": {
   "codemirror_mode": {
    "name": "ipython",
    "version": 3
   },
   "file_extension": ".py",
   "mimetype": "text/x-python",
   "name": "python",
   "nbconvert_exporter": "python",
   "pygments_lexer": "ipython3",
   "version": "3.9.12"
  }
 },
 "nbformat": 4,
 "nbformat_minor": 5
}
