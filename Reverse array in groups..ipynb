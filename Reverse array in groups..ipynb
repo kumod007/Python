{
 "cells": [
  {
   "cell_type": "markdown",
   "id": "30e6c8d3",
   "metadata": {},
   "source": [
    "Given an array arr[] of positive integers of size N. Reverse every sub-array group of size K.\n",
    "\n",
    "Note: If at any instance, there are no more subarrays of size greater than or equal to K, then reverse the last subarray (irrespective of its size). You shouldn't return any array, modify the given array in-place.\n",
    "\n",
    "Example 1:\n",
    "\n",
    "Input:\n",
    "N = 5, K = 3\n",
    "\n",
    "arr[] = {1,2,3,4,5}\n",
    "\n",
    "Output: 3 2 1 5 4"
   ]
  },
  {
   "cell_type": "code",
   "execution_count": 29,
   "id": "6a3ddf85",
   "metadata": {},
   "outputs": [],
   "source": [
    "class Solution:\n",
    "    def reverse_array(self, arr, N, K):\n",
    "        for i in range(N):\n",
    "            if i < K:\n",
    "                print (arr[K-i-1],end=\" \")\n",
    "            else:\n",
    "                print (arr[N-i+2],end=\" \")\n",
    "ob = Solution()  "
   ]
  },
  {
   "cell_type": "code",
   "execution_count": 30,
   "id": "d568d0e2",
   "metadata": {},
   "outputs": [
    {
     "name": "stdout",
     "output_type": "stream",
     "text": [
      "3 2 1 5 4 "
     ]
    }
   ],
   "source": [
    "ob.reverse_array([1,2,3,4,5],5,3)"
   ]
  }
 ],
 "metadata": {
  "kernelspec": {
   "display_name": "Python 3 (ipykernel)",
   "language": "python",
   "name": "python3"
  },
  "language_info": {
   "codemirror_mode": {
    "name": "ipython",
    "version": 3
   },
   "file_extension": ".py",
   "mimetype": "text/x-python",
   "name": "python",
   "nbconvert_exporter": "python",
   "pygments_lexer": "ipython3",
   "version": "3.9.12"
  }
 },
 "nbformat": 4,
 "nbformat_minor": 5
}
