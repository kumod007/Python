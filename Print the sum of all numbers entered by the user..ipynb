{
 "cells": [
  {
   "cell_type": "markdown",
   "id": "62bdf133",
   "metadata": {},
   "source": [
    "Q5. Write a program to enter the numbers till the user wants and at the end it should display the sum of all the numbers entered.   "
   ]
  },
  {
   "cell_type": "markdown",
   "id": "99a47186",
   "metadata": {},
   "source": [
    "### Using For Loop"
   ]
  },
  {
   "cell_type": "code",
   "execution_count": 2,
   "id": "469fe716",
   "metadata": {},
   "outputs": [
    {
     "name": "stdout",
     "output_type": "stream",
     "text": [
      "Enter how many entries you want for numbers: 10\n",
      "Enter your number: 2\n",
      "Enter your number: 4\n",
      "Enter your number: 6\n",
      "Enter your number: 8\n",
      "Enter your number: 12\n",
      "Enter your number: 18\n",
      "Enter your number: 20\n",
      "Enter your number: 22\n",
      "Enter your number: 30\n",
      "Enter your number: 60\n",
      "The sum of all numbers is: 182\n"
     ]
    }
   ],
   "source": [
    "n = int(input(\"Enter how many entries you want for numbers: \"))\n",
    "summ = 0\n",
    "\n",
    "for i in range(n):\n",
    "    a = int(input(\"Enter your number: \"))\n",
    "    summ+=a\n",
    "\n",
    "print(\"\\nThe sum of all numbers is:\",summ)"
   ]
  },
  {
   "cell_type": "markdown",
   "id": "ba71b163",
   "metadata": {},
   "source": [
    "### Using While Loop"
   ]
  },
  {
   "cell_type": "code",
   "execution_count": 4,
   "id": "4d74e085",
   "metadata": {},
   "outputs": [
    {
     "name": "stdout",
     "output_type": "stream",
     "text": [
      "Enter how many entries you want for numbers: 10\n",
      "Enter your number: 2\n",
      "Enter your number: 4\n",
      "Enter your number: 6\n",
      "Enter your number: 8\n",
      "Enter your number: 12\n",
      "Enter your number: 18\n",
      "Enter your number: 20\n",
      "Enter your number: 22\n",
      "Enter your number: 30\n",
      "Enter your number: 60\n",
      "\n",
      "The sum of all numbers is: 182\n"
     ]
    }
   ],
   "source": [
    "n = int(input(\"Enter how many entries you want for numbers: \"))\n",
    "x = 0\n",
    "summ = 0\n",
    "\n",
    "while x<n:\n",
    "    a = int(input(\"Enter your number: \"))\n",
    "    summ+=a\n",
    "    x+=1\n",
    "print(\"\\nThe sum of all numbers is:\",summ)"
   ]
  }
 ],
 "metadata": {
  "kernelspec": {
   "display_name": "Python 3 (ipykernel)",
   "language": "python",
   "name": "python3"
  },
  "language_info": {
   "codemirror_mode": {
    "name": "ipython",
    "version": 3
   },
   "file_extension": ".py",
   "mimetype": "text/x-python",
   "name": "python",
   "nbconvert_exporter": "python",
   "pygments_lexer": "ipython3",
   "version": "3.9.12"
  }
 },
 "nbformat": 4,
 "nbformat_minor": 5
}
