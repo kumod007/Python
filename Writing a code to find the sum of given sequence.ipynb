{
 "cells": [
  {
   "cell_type": "markdown",
   "id": "7c6ecd98",
   "metadata": {},
   "source": [
    "### Question:"
   ]
  },
  {
   "cell_type": "markdown",
   "id": "6bda76b8",
   "metadata": {},
   "source": [
    "* Write a program that computes the value of a+aa+aaa+aaaa with a given digit as the value of a.\n",
    "\n",
    "\n",
    "* Suppose the input is supplied to the program: 9\n",
    "* Then, the output should be: 11106 \n"
   ]
  },
  {
   "cell_type": "markdown",
   "id": "eaf96039",
   "metadata": {},
   "source": [
    "### Logic 1 (Using For Loop)"
   ]
  },
  {
   "cell_type": "code",
   "execution_count": 2,
   "id": "17f18200",
   "metadata": {},
   "outputs": [
    {
     "name": "stdout",
     "output_type": "stream",
     "text": [
      "Enter your number for calculation: 9\n",
      "\n",
      "The required output is: 11106\n"
     ]
    }
   ],
   "source": [
    "n = int(input(\"Enter your number for calculation: \"))\n",
    "summ=0\n",
    "a=n\n",
    "\n",
    "for i in range(4):\n",
    "    summ+=n\n",
    "    n=n*10+a\n",
    "print(\"\\nThe required output is:\",summ)"
   ]
  }
 ],
 "metadata": {
  "kernelspec": {
   "display_name": "Python 3 (ipykernel)",
   "language": "python",
   "name": "python3"
  },
  "language_info": {
   "codemirror_mode": {
    "name": "ipython",
    "version": 3
   },
   "file_extension": ".py",
   "mimetype": "text/x-python",
   "name": "python",
   "nbconvert_exporter": "python",
   "pygments_lexer": "ipython3",
   "version": "3.9.12"
  }
 },
 "nbformat": 4,
 "nbformat_minor": 5
}
