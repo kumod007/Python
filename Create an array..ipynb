{
 "cells": [
  {
   "cell_type": "markdown",
   "id": "312fe86f",
   "metadata": {},
   "source": [
    "### Question:"
   ]
  },
  {
   "cell_type": "markdown",
   "id": "a2ddb491",
   "metadata": {},
   "source": [
    "#### We have to create an array with given conditions."
   ]
  },
  {
   "cell_type": "code",
   "execution_count": 12,
   "id": "f6dd76c0",
   "metadata": {},
   "outputs": [],
   "source": [
    "import numpy as np"
   ]
  },
  {
   "cell_type": "markdown",
   "id": "42fb20c2",
   "metadata": {},
   "source": [
    "### Code 1:"
   ]
  },
  {
   "cell_type": "code",
   "execution_count": 13,
   "id": "6a49e010",
   "metadata": {},
   "outputs": [],
   "source": [
    "a = np.ones((5,5),dtype=int)"
   ]
  },
  {
   "cell_type": "code",
   "execution_count": 14,
   "id": "45ca793e",
   "metadata": {},
   "outputs": [
    {
     "name": "stdout",
     "output_type": "stream",
     "text": [
      "Enter the value you want fill in with 3x3 matrix:0\n",
      "Enter the value that you want to fill in the middle of array: 9\n"
     ]
    }
   ],
   "source": [
    "x = int(input(\"Enter the value you want fill in with 3x3 matrix:\"))\n",
    "y = int(input(\"Enter the value that you want to fill in the middle of array: \"))"
   ]
  },
  {
   "cell_type": "code",
   "execution_count": 15,
   "id": "90a40947",
   "metadata": {},
   "outputs": [],
   "source": [
    "a[1:4,1:4]=x\n",
    "a[2,2]=y"
   ]
  },
  {
   "cell_type": "code",
   "execution_count": 17,
   "id": "bc8e828d",
   "metadata": {},
   "outputs": [
    {
     "name": "stdout",
     "output_type": "stream",
     "text": [
      "[[1 1 1 1 1]\n",
      " [1 0 0 0 1]\n",
      " [1 0 9 0 1]\n",
      " [1 0 0 0 1]\n",
      " [1 1 1 1 1]]\n"
     ]
    }
   ],
   "source": [
    "print(a)"
   ]
  },
  {
   "cell_type": "markdown",
   "id": "a8bf5c45",
   "metadata": {},
   "source": [
    "### Code 2:"
   ]
  },
  {
   "cell_type": "code",
   "execution_count": 19,
   "id": "05fff53d",
   "metadata": {},
   "outputs": [
    {
     "name": "stdout",
     "output_type": "stream",
     "text": [
      "Enter the value of which you want to create an array: 4\n",
      "Enter the value you want fill in with 3x3 matrix:0\n",
      "Enter the value that you want to fill in the middle of 3x3 matrix: 9\n"
     ]
    }
   ],
   "source": [
    "x = int(input(\"Enter the value of which you want to create an array: \"))\n",
    "y = int(input(\"Enter the value you want fill in with 3x3 matrix:\"))\n",
    "z = int(input(\"Enter the value that you want to fill in the middle of 3x3 matrix: \"))"
   ]
  },
  {
   "cell_type": "code",
   "execution_count": 36,
   "id": "3fbeffde",
   "metadata": {},
   "outputs": [
    {
     "name": "stdout",
     "output_type": "stream",
     "text": [
      "[[4 4 4 4 4]\n",
      " [4 4 4 4 4]\n",
      " [4 4 4 4 4]\n",
      " [4 4 4 4 4]\n",
      " [4 4 4 4 4]]\n",
      "[[0 0 0]\n",
      " [0 0 0]\n",
      " [0 0 0]]\n"
     ]
    }
   ],
   "source": [
    "a = np.full((5,5),x,dtype=int)\n",
    "b = np.full((3,3),y,dtype=int)\n",
    "print(a)\n",
    "print(b)"
   ]
  },
  {
   "cell_type": "code",
   "execution_count": 52,
   "id": "a19426e4",
   "metadata": {},
   "outputs": [
    {
     "name": "stdout",
     "output_type": "stream",
     "text": [
      "Choose whether you want to enter row/column index value: column\n",
      "Enter starting column index: 2\n"
     ]
    }
   ],
   "source": [
    "m = str(input(\"Choose whether you want to enter row/column index value: \"))\n",
    "if m==\"row\":\n",
    "    p = int(input(\"Enter starting row index: \"))\n",
    "    a[p:p+3,0:]=y\n",
    "else:\n",
    "    if m==\"column\":\n",
    "        q = int(input(\"Enter starting column index: \"))\n",
    "        a[0:,q:q+3]=y"
   ]
  },
  {
   "cell_type": "code",
   "execution_count": 53,
   "id": "30defb9a",
   "metadata": {},
   "outputs": [
    {
     "name": "stdout",
     "output_type": "stream",
     "text": [
      "[[4 4 0 0 0]\n",
      " [0 0 0 0 0]\n",
      " [0 0 0 0 0]\n",
      " [0 0 0 0 0]\n",
      " [4 4 0 0 0]]\n"
     ]
    }
   ],
   "source": [
    "print(a)"
   ]
  }
 ],
 "metadata": {
  "kernelspec": {
   "display_name": "Python 3 (ipykernel)",
   "language": "python",
   "name": "python3"
  },
  "language_info": {
   "codemirror_mode": {
    "name": "ipython",
    "version": 3
   },
   "file_extension": ".py",
   "mimetype": "text/x-python",
   "name": "python",
   "nbconvert_exporter": "python",
   "pygments_lexer": "ipython3",
   "version": "3.9.12"
  }
 },
 "nbformat": 4,
 "nbformat_minor": 5
}
