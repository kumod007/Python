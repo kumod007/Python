{
 "cells": [
  {
   "cell_type": "markdown",
   "id": "d9f61714",
   "metadata": {},
   "source": [
    "### Create a program that calculates the total length of any input string using while loop."
   ]
  },
  {
   "cell_type": "markdown",
   "id": "c5e0d420",
   "metadata": {},
   "source": [
    "Note:- You can not use len function"
   ]
  },
  {
   "cell_type": "code",
   "execution_count": 44,
   "id": "a32ffcc1",
   "metadata": {},
   "outputs": [
    {
     "name": "stdout",
     "output_type": "stream",
     "text": [
      "Enter your string value: Kumod Sharma\n"
     ]
    }
   ],
   "source": [
    "value = str(input(\"Enter your string value: \"))"
   ]
  },
  {
   "cell_type": "code",
   "execution_count": 45,
   "id": "8aeee11b",
   "metadata": {},
   "outputs": [
    {
     "name": "stdout",
     "output_type": "stream",
     "text": [
      "Kumod Sharma\n"
     ]
    }
   ],
   "source": [
    "print(value)"
   ]
  },
  {
   "cell_type": "code",
   "execution_count": 47,
   "id": "8860f7d6",
   "metadata": {},
   "outputs": [
    {
     "name": "stdout",
     "output_type": "stream",
     "text": [
      "12\n"
     ]
    }
   ],
   "source": [
    "count = 0\n",
    "\n",
    "while value[count:]:\n",
    "    count+=1\n",
    "print(count)"
   ]
  }
 ],
 "metadata": {
  "kernelspec": {
   "display_name": "Python 3 (ipykernel)",
   "language": "python",
   "name": "python3"
  },
  "language_info": {
   "codemirror_mode": {
    "name": "ipython",
    "version": 3
   },
   "file_extension": ".py",
   "mimetype": "text/x-python",
   "name": "python",
   "nbconvert_exporter": "python",
   "pygments_lexer": "ipython3",
   "version": "3.9.12"
  }
 },
 "nbformat": 4,
 "nbformat_minor": 5
}
