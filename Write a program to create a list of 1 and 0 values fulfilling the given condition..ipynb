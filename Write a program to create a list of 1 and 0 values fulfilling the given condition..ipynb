{
 "cells": [
  {
   "cell_type": "markdown",
   "id": "456e0565",
   "metadata": {},
   "source": [
    "## Question:"
   ]
  },
  {
   "cell_type": "markdown",
   "id": "7f3a39c9",
   "metadata": {},
   "source": [
    "In this question, a list of words was given and if any two adjacent characters are same we have to change one of them and determine the minimum number of substitutions so final string contains no adjacent changes.\n",
    "\n",
    "ex: words = [\"add\", \"book\", break\"]"
   ]
  },
  {
   "cell_type": "markdown",
   "id": "a61ce91b",
   "metadata": {},
   "source": [
    "### Code:"
   ]
  },
  {
   "cell_type": "code",
   "execution_count": 2,
   "id": "87f0a615",
   "metadata": {},
   "outputs": [
    {
     "data": {
      "text/plain": [
       "[1, 1, 0]"
      ]
     },
     "execution_count": 2,
     "metadata": {},
     "output_type": "execute_result"
    }
   ],
   "source": [
    "x = [\"add\",\"book\",\"break\"]\n",
    "z = []\n",
    "\n",
    "for i in x:\n",
    "    for j in range(len(i)-1):\n",
    "        if (i[j]==i[j+1]):\n",
    "            z.append(1)\n",
    "            break\n",
    "    else:\n",
    "        z.append(0)\n",
    "z"
   ]
  }
 ],
 "metadata": {
  "kernelspec": {
   "display_name": "Python 3 (ipykernel)",
   "language": "python",
   "name": "python3"
  },
  "language_info": {
   "codemirror_mode": {
    "name": "ipython",
    "version": 3
   },
   "file_extension": ".py",
   "mimetype": "text/x-python",
   "name": "python",
   "nbconvert_exporter": "python",
   "pygments_lexer": "ipython3",
   "version": "3.9.12"
  }
 },
 "nbformat": 4,
 "nbformat_minor": 5
}
