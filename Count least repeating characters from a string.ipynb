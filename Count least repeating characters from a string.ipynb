{
 "cells": [
  {
   "cell_type": "markdown",
   "id": "7c824f30",
   "metadata": {},
   "source": [
    "### Return a dictionary of least repeating characters from a string."
   ]
  },
  {
   "cell_type": "code",
   "execution_count": 34,
   "id": "65435b06",
   "metadata": {},
   "outputs": [
    {
     "name": "stdout",
     "output_type": "stream",
     "text": [
      "Enter your string value: mmmmmmmmmmmmmaaaaaaaaaaaaaaaaaaaaaaaaaaaaaaaaaa\n"
     ]
    }
   ],
   "source": [
    "value = str(input(\"Enter your string value: \"))"
   ]
  },
  {
   "cell_type": "markdown",
   "id": "98f073ec",
   "metadata": {},
   "source": [
    "###  Code "
   ]
  },
  {
   "cell_type": "code",
   "execution_count": 35,
   "id": "0d1439a0",
   "metadata": {},
   "outputs": [
    {
     "name": "stdout",
     "output_type": "stream",
     "text": [
      "{'m': 13}\n"
     ]
    }
   ],
   "source": [
    "list1 = []\n",
    "list2 = []\n",
    "dict1 = {}\n",
    "\n",
    "val = set(value.lower())\n",
    "\n",
    "for i in val:\n",
    "    if i==\" \":\n",
    "        continue\n",
    "    a = value.count(i)\n",
    "    list1.append(a)\n",
    "    list2.append([i,a])\n",
    "\n",
    "min_val = min(list1)\n",
    "\n",
    "for j in list2:\n",
    "    if j[1]==min_val:\n",
    "        dict1[j[0]]=j[1]\n",
    "        \n",
    "print(dict(sorted(dict1.items())))"
   ]
  }
 ],
 "metadata": {
  "kernelspec": {
   "display_name": "Python 3 (ipykernel)",
   "language": "python",
   "name": "python3"
  },
  "language_info": {
   "codemirror_mode": {
    "name": "ipython",
    "version": 3
   },
   "file_extension": ".py",
   "mimetype": "text/x-python",
   "name": "python",
   "nbconvert_exporter": "python",
   "pygments_lexer": "ipython3",
   "version": "3.9.12"
  }
 },
 "nbformat": 4,
 "nbformat_minor": 5
}
