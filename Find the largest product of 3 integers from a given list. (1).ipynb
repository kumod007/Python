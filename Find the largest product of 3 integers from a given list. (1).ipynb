{
 "cells": [
  {
   "cell_type": "markdown",
   "id": "f1f680bc",
   "metadata": {},
   "source": [
    "### Question:"
   ]
  },
  {
   "cell_type": "markdown",
   "id": "5fb454b2",
   "metadata": {},
   "source": [
    "**Write a function in python that takes a list of integers and returns the largets product of any three integers in the list, without using any imports or built-in-functions (such as sort or max) that directly solve the problem.**"
   ]
  },
  {
   "cell_type": "markdown",
   "id": "566f4f47",
   "metadata": {},
   "source": [
    "### Code:"
   ]
  },
  {
   "cell_type": "code",
   "execution_count": 4,
   "id": "2ff3e3a4",
   "metadata": {},
   "outputs": [
    {
     "name": "stdout",
     "output_type": "stream",
     "text": [
      "Enter your values with space separated: 34 54 32 80 100 23 54 21 50 90 1\n",
      "100\n",
      "90\n",
      "80\n"
     ]
    }
   ],
   "source": [
    "list1 = list(map(int,input(\"Enter your values with space separated: \").split()))\n",
    "s=0\n",
    "total=1\n",
    "\n",
    "for k in range(3):\n",
    "    for i in range(len(list1)-1):\n",
    "        if i==0:\n",
    "            s=list1[i]\n",
    "        else:\n",
    "            if list1[i]>s:\n",
    "                s=list1[i]\n",
    "    print(s)\n",
    "    list1.remove(s)\n",
    "    total*=s"
   ]
  },
  {
   "cell_type": "code",
   "execution_count": 5,
   "id": "74549227",
   "metadata": {},
   "outputs": [
    {
     "name": "stdout",
     "output_type": "stream",
     "text": [
      "Maximum product of 3 integers from the list is: 720000\n"
     ]
    }
   ],
   "source": [
    "print(\"Maximum product of 3 integers from the list is:\",total)"
   ]
  },
  {
   "cell_type": "markdown",
   "id": "6579b559",
   "metadata": {},
   "source": [
    "### Code 2:"
   ]
  },
  {
   "cell_type": "code",
   "execution_count": 6,
   "id": "ba78b265",
   "metadata": {},
   "outputs": [],
   "source": [
    "from functools import reduce"
   ]
  },
  {
   "cell_type": "code",
   "execution_count": 13,
   "id": "3c2c8678",
   "metadata": {},
   "outputs": [
    {
     "name": "stdout",
     "output_type": "stream",
     "text": [
      "Enter your values with space separated: 34 54 32 80 100 23 54 21 50 90 1\n"
     ]
    }
   ],
   "source": [
    "list2 = list(map(int,input(\"Enter your values with space separated: \").split()))\n",
    "total=1\n",
    "\n",
    "for i in range(3):\n",
    "    x = reduce(lambda a,b: a if a>b else b, list2)\n",
    "    total*=x\n",
    "    list2.remove(x)"
   ]
  },
  {
   "cell_type": "code",
   "execution_count": 14,
   "id": "3dc17afb",
   "metadata": {},
   "outputs": [
    {
     "name": "stdout",
     "output_type": "stream",
     "text": [
      "Maximum product of 3 integers from the list is: 720000\n"
     ]
    }
   ],
   "source": [
    "print(\"Maximum product of 3 integers from the list is:\",total)"
   ]
  }
 ],
 "metadata": {
  "kernelspec": {
   "display_name": "Python 3 (ipykernel)",
   "language": "python",
   "name": "python3"
  },
  "language_info": {
   "codemirror_mode": {
    "name": "ipython",
    "version": 3
   },
   "file_extension": ".py",
   "mimetype": "text/x-python",
   "name": "python",
   "nbconvert_exporter": "python",
   "pygments_lexer": "ipython3",
   "version": "3.9.12"
  }
 },
 "nbformat": 4,
 "nbformat_minor": 5
}
