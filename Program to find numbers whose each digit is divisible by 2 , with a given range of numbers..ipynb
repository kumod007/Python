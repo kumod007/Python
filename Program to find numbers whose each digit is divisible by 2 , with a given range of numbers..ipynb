{
 "cells": [
  {
   "cell_type": "markdown",
   "id": "1040c467",
   "metadata": {},
   "source": [
    "#### Question:"
   ]
  },
  {
   "cell_type": "markdown",
   "id": "869b4158",
   "metadata": {},
   "source": [
    "* Write a program, which will find all such numbers between 1000 and 3000 (both included) such that each digit of the number is an even number.\n",
    "\n",
    "\n",
    "* The numbers obtained should be printed in a comma-separated sequence on a single line. "
   ]
  },
  {
   "cell_type": "markdown",
   "id": "076e1633",
   "metadata": {},
   "source": [
    "### Logic 1 (Using While Loop)"
   ]
  },
  {
   "cell_type": "code",
   "execution_count": 7,
   "id": "ba2af231",
   "metadata": {},
   "outputs": [
    {
     "name": "stdout",
     "output_type": "stream",
     "text": [
      "Enter the starting range: 1000\n",
      "Enter the ending range: 3000\n",
      "\n",
      "The required output is:\n",
      "2000,2002,2004,2006,2008,2020,2022,2024,2026,2028,2040,2042,2044,2046,2048,2060,2062,2064,2066,2068,2080,2082,2084,2086,2088,2200,2202,2204,2206,2208,2220,2222,2224,2226,2228,2240,2242,2244,2246,2248,2260,2262,2264,2266,2268,2280,2282,2284,2286,2288,2400,2402,2404,2406,2408,2420,2422,2424,2426,2428,2440,2442,2444,2446,2448,2460,2462,2464,2466,2468,2480,2482,2484,2486,2488,2600,2602,2604,2606,2608,2620,2622,2624,2626,2628,2640,2642,2644,2646,2648,2660,2662,2664,2666,2668,2680,2682,2684,2686,2688,2800,2802,2804,2806,2808,2820,2822,2824,2826,2828,2840,2842,2844,2846,2848,2860,2862,2864,2866,2868,2880,2882,2884,2886,2888,"
     ]
    }
   ],
   "source": [
    "x = int(input(\"Enter the starting range: \"))\n",
    "y = int(input(\"Enter the ending range: \"))\n",
    "\n",
    "print(\"\\nThe required output is:\")\n",
    "while x<=y:\n",
    "    m=x\n",
    "    count=0\n",
    "    if x%2==0:\n",
    "        while x!=0:\n",
    "            a=x%10\n",
    "            if a%2==0:\n",
    "                count+=1\n",
    "            x=x//10\n",
    "    if count==len(str(m)):\n",
    "        print(m,end=\",\")\n",
    "    x=m+1"
   ]
  },
  {
   "cell_type": "markdown",
   "id": "5f456e5a",
   "metadata": {},
   "source": [
    "### Logic 2:-"
   ]
  },
  {
   "cell_type": "code",
   "execution_count": 9,
   "id": "e4127778",
   "metadata": {},
   "outputs": [
    {
     "name": "stdout",
     "output_type": "stream",
     "text": [
      "Enter your starting range: 1000\n",
      "Enter your ending range: 3000\n",
      "\n",
      "The required output is: \n",
      "2000,2002,2004,2006,2008,2020,2022,2024,2026,2028,2040,2042,2044,2046,2048,2060,2062,2064,2066,2068,2080,2082,2084,2086,2088,2200,2202,2204,2206,2208,2220,2222,2224,2226,2228,2240,2242,2244,2246,2248,2260,2262,2264,2266,2268,2280,2282,2284,2286,2288,2400,2402,2404,2406,2408,2420,2422,2424,2426,2428,2440,2442,2444,2446,2448,2460,2462,2464,2466,2468,2480,2482,2484,2486,2488,2600,2602,2604,2606,2608,2620,2622,2624,2626,2628,2640,2642,2644,2646,2648,2660,2662,2664,2666,2668,2680,2682,2684,2686,2688,2800,2802,2804,2806,2808,2820,2822,2824,2826,2828,2840,2842,2844,2846,2848,2860,2862,2864,2866,2868,2880,2882,2884,2886,2888,"
     ]
    }
   ],
   "source": [
    "x=int(input(\"Enter your starting range: \"))\n",
    "y=int(input(\"Enter your ending range: \"))\n",
    "list_even=[\"0\",\"2\",\"4\",\"6\",\"8\"]\n",
    "\n",
    "print(\"\\nThe required output is: \")\n",
    "\n",
    "for i in range(x,y+1):\n",
    "    if i%2==0:\n",
    "            for j in str(i):\n",
    "                if j not in list_even:\n",
    "                    break\n",
    "            else:\n",
    "                print(i,end=\",\")"
   ]
  },
  {
   "cell_type": "code",
   "execution_count": null,
   "id": "6fbfb63b",
   "metadata": {},
   "outputs": [],
   "source": []
  }
 ],
 "metadata": {
  "kernelspec": {
   "display_name": "Python 3 (ipykernel)",
   "language": "python",
   "name": "python3"
  },
  "language_info": {
   "codemirror_mode": {
    "name": "ipython",
    "version": 3
   },
   "file_extension": ".py",
   "mimetype": "text/x-python",
   "name": "python",
   "nbconvert_exporter": "python",
   "pygments_lexer": "ipython3",
   "version": "3.9.12"
  }
 },
 "nbformat": 4,
 "nbformat_minor": 5
}
