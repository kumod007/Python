{
 "cells": [
  {
   "cell_type": "markdown",
   "id": "b51d483b",
   "metadata": {},
   "source": [
    "### Question No 36:"
   ]
  },
  {
   "cell_type": "markdown",
   "id": "cb3f62d1",
   "metadata": {},
   "source": [
    "* Write a Python program to concatenate element-wise three given lists.  \n",
    "\n",
    "\n",
    "* Original lists:\n",
    "* ['0', '1', '2', '3', '4']\n",
    "* ['red', 'green', 'black', 'blue', 'white']\n",
    "* ['100', '200', '300', '400', '500']\n",
    "\n",
    "\n",
    "* Concatenate element-wise three said lists:\n",
    "* ['0red100', '1green200', '2black300', '3blue400', '4white500']\n"
   ]
  },
  {
   "cell_type": "markdown",
   "id": "bf07bd7a",
   "metadata": {},
   "source": [
    "### Code 1:- Using Zip Function"
   ]
  },
  {
   "cell_type": "code",
   "execution_count": 1,
   "id": "de03f1d2",
   "metadata": {},
   "outputs": [
    {
     "name": "stdout",
     "output_type": "stream",
     "text": [
      "['0red100', '1green200', '2black300', '3blue400', '4white500']\n"
     ]
    }
   ],
   "source": [
    "x = [\"0\",\"1\",\"2\",\"3\",\"4\"]\n",
    "y = [\"red\",\"green\",\"black\",\"blue\",\"white\"]\n",
    "z = [\"100\",\"200\",\"300\",\"400\",\"500\",\"600\"]\n",
    "a = []\n",
    "\n",
    "for i,j,k in zip(x,y,z):\n",
    "    a.append(i+j+k)\n",
    "print(a)"
   ]
  },
  {
   "cell_type": "markdown",
   "id": "77994147",
   "metadata": {},
   "source": [
    "### Code 2:- Using Lambda Function"
   ]
  },
  {
   "cell_type": "code",
   "execution_count": 3,
   "id": "0d7526a5",
   "metadata": {},
   "outputs": [
    {
     "name": "stdout",
     "output_type": "stream",
     "text": [
      "['0red100', '1green200', '2black300', '3blue400', '4white500']\n"
     ]
    }
   ],
   "source": [
    "x = [\"0\",\"1\",\"2\",\"3\",\"4\"]\n",
    "y = [\"red\",\"green\",\"black\",\"blue\",\"white\"]\n",
    "z = [\"100\",\"200\",\"300\",\"400\",\"500\",\"600\"]\n",
    "\n",
    "m = list(map(lambda a,b,c: a+b+c, x,y,z))\n",
    "print(m)"
   ]
  },
  {
   "cell_type": "markdown",
   "id": "7538de68",
   "metadata": {},
   "source": [
    "### Code 3:- Using List Comphrehension"
   ]
  },
  {
   "cell_type": "code",
   "execution_count": 2,
   "id": "d682784d",
   "metadata": {},
   "outputs": [
    {
     "name": "stdout",
     "output_type": "stream",
     "text": [
      "['0red100', '1green200', '2black300', '3blue400', '4white500']\n"
     ]
    }
   ],
   "source": [
    "x = [\"0\",\"1\",\"2\",\"3\",\"4\"]\n",
    "y = [\"red\",\"green\",\"black\",\"blue\",\"white\"]\n",
    "z = [\"100\",\"200\",\"300\",\"400\",\"500\",\"600\"]\n",
    "\n",
    "a = [i+j+k for i,j,k in zip(x,y,z)]\n",
    "print(a)"
   ]
  }
 ],
 "metadata": {
  "kernelspec": {
   "display_name": "Python 3 (ipykernel)",
   "language": "python",
   "name": "python3"
  },
  "language_info": {
   "codemirror_mode": {
    "name": "ipython",
    "version": 3
   },
   "file_extension": ".py",
   "mimetype": "text/x-python",
   "name": "python",
   "nbconvert_exporter": "python",
   "pygments_lexer": "ipython3",
   "version": "3.9.12"
  }
 },
 "nbformat": 4,
 "nbformat_minor": 5
}
