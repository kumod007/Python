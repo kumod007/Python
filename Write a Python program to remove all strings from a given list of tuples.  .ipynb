{
 "cells": [
  {
   "cell_type": "markdown",
   "id": "4bcd0441",
   "metadata": {},
   "source": [
    "### Question:"
   ]
  },
  {
   "cell_type": "markdown",
   "id": "ab67397e",
   "metadata": {},
   "source": [
    "*\tWrite a Python program to remove all strings from a given list of tuples.  \n",
    "\n",
    "\n",
    "* Original list:[(100, 'Math'), (80, 'Math'), (90, 'Math'), (88, 'Science', 89), (90, 'Science', 92)]\n",
    "\n",
    "\n",
    "* Remove all strings from the said list of tuples:[(100,), (80,), (90,), (88, 89), (90, 92)]\n"
   ]
  },
  {
   "cell_type": "markdown",
   "id": "50c4f782",
   "metadata": {},
   "source": [
    "### Code 1: (Using List Comphrehension)"
   ]
  },
  {
   "cell_type": "code",
   "execution_count": 1,
   "id": "e1f2f63c",
   "metadata": {},
   "outputs": [
    {
     "name": "stdout",
     "output_type": "stream",
     "text": [
      "[(100,), (80,), (90,), (88, 89), (90, 92)]\n"
     ]
    }
   ],
   "source": [
    "x = [(100, 'Math'), (80, 'Math'), (90, 'Math'), (88, 'Science', 89), (90, 'Science', 92)]\n",
    "\n",
    "z = [tuple(j  for j in i if type(j)==int) for i in x]\n",
    "print(z)"
   ]
  },
  {
   "cell_type": "markdown",
   "id": "28a44fe1",
   "metadata": {},
   "source": [
    "### Code 2: (Uing For Loop)"
   ]
  },
  {
   "cell_type": "code",
   "execution_count": 2,
   "id": "fc091684",
   "metadata": {},
   "outputs": [
    {
     "name": "stdout",
     "output_type": "stream",
     "text": [
      "[(100,), (80,), (90,), (88, 89), (90, 92)]\n"
     ]
    }
   ],
   "source": [
    "x = [(100, 'Math'), (80, 'Math'), (90, 'Math'), (88, 'Science', 89), (90, 'Science', 92)]\n",
    "z = []\n",
    "\n",
    "for i in x:\n",
    "    a = []\n",
    "    for j in i:\n",
    "        if type(j)==int:\n",
    "            a.append(j)\n",
    "    z.append(tuple(a))\n",
    "print(z)"
   ]
  }
 ],
 "metadata": {
  "kernelspec": {
   "display_name": "Python 3 (ipykernel)",
   "language": "python",
   "name": "python3"
  },
  "language_info": {
   "codemirror_mode": {
    "name": "ipython",
    "version": 3
   },
   "file_extension": ".py",
   "mimetype": "text/x-python",
   "name": "python",
   "nbconvert_exporter": "python",
   "pygments_lexer": "ipython3",
   "version": "3.9.12"
  }
 },
 "nbformat": 4,
 "nbformat_minor": 5
}
