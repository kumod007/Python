{
 "cells": [
  {
   "cell_type": "code",
   "execution_count": 43,
   "id": "c3c69df5",
   "metadata": {},
   "outputs": [],
   "source": [
    "import pandas as pd\n",
    "import numpy as np"
   ]
  },
  {
   "cell_type": "code",
   "execution_count": 44,
   "id": "6ba342ed",
   "metadata": {},
   "outputs": [],
   "source": [
    "data = {'title': ['The Shawshank Redemption', 'The Godfather', 'The Dark Knight'], \n",
    "        'json_col': ['{\"year\": 1994, \"director\": \"Frank Darabont\"}', \n",
    "                     '{\"year\": 1972, \"director\": \"Francis Ford Coppola\"}', \n",
    "                     '{\"year\": 2008, \"director\": \"Christopher Nolan\"}']}\n",
    "\n",
    "df = pd.DataFrame(data)"
   ]
  },
  {
   "cell_type": "code",
   "execution_count": 45,
   "id": "e1b091b6",
   "metadata": {},
   "outputs": [
    {
     "data": {
      "text/html": [
       "<div>\n",
       "<style scoped>\n",
       "    .dataframe tbody tr th:only-of-type {\n",
       "        vertical-align: middle;\n",
       "    }\n",
       "\n",
       "    .dataframe tbody tr th {\n",
       "        vertical-align: top;\n",
       "    }\n",
       "\n",
       "    .dataframe thead th {\n",
       "        text-align: right;\n",
       "    }\n",
       "</style>\n",
       "<table border=\"1\" class=\"dataframe\">\n",
       "  <thead>\n",
       "    <tr style=\"text-align: right;\">\n",
       "      <th></th>\n",
       "      <th>title</th>\n",
       "      <th>json_col</th>\n",
       "    </tr>\n",
       "  </thead>\n",
       "  <tbody>\n",
       "    <tr>\n",
       "      <th>0</th>\n",
       "      <td>The Shawshank Redemption</td>\n",
       "      <td>{\"year\": 1994, \"director\": \"Frank Darabont\"}</td>\n",
       "    </tr>\n",
       "    <tr>\n",
       "      <th>1</th>\n",
       "      <td>The Godfather</td>\n",
       "      <td>{\"year\": 1972, \"director\": \"Francis Ford Coppo...</td>\n",
       "    </tr>\n",
       "    <tr>\n",
       "      <th>2</th>\n",
       "      <td>The Dark Knight</td>\n",
       "      <td>{\"year\": 2008, \"director\": \"Christopher Nolan\"}</td>\n",
       "    </tr>\n",
       "  </tbody>\n",
       "</table>\n",
       "</div>"
      ],
      "text/plain": [
       "                      title                                           json_col\n",
       "0  The Shawshank Redemption       {\"year\": 1994, \"director\": \"Frank Darabont\"}\n",
       "1             The Godfather  {\"year\": 1972, \"director\": \"Francis Ford Coppo...\n",
       "2           The Dark Knight    {\"year\": 2008, \"director\": \"Christopher Nolan\"}"
      ]
     },
     "execution_count": 45,
     "metadata": {},
     "output_type": "execute_result"
    }
   ],
   "source": [
    "df"
   ]
  },
  {
   "cell_type": "code",
   "execution_count": 67,
   "id": "e3326324",
   "metadata": {},
   "outputs": [],
   "source": [
    "year = []\n",
    "director = []\n",
    "\n",
    "for i in df[\"json_col\"]:\n",
    "    i = i.replace(\"{\",\"\")\n",
    "    i = i.replace(\"}\",\"\")\n",
    "    a = (i.split(\":\"))\n",
    "    b = (a[1].split(\",\"))\n",
    "    year.append(b[0])\n",
    "    director.append(a[2].replace('\"',\"\").strip())"
   ]
  },
  {
   "cell_type": "code",
   "execution_count": 70,
   "id": "5731e055",
   "metadata": {},
   "outputs": [],
   "source": [
    "df1 = df[[\"title\"]]\n",
    "df1[\"Year\"] = year\n",
    "df1[\"Director\"] = director"
   ]
  },
  {
   "cell_type": "code",
   "execution_count": 71,
   "id": "e6e160d0",
   "metadata": {},
   "outputs": [
    {
     "data": {
      "text/html": [
       "<div>\n",
       "<style scoped>\n",
       "    .dataframe tbody tr th:only-of-type {\n",
       "        vertical-align: middle;\n",
       "    }\n",
       "\n",
       "    .dataframe tbody tr th {\n",
       "        vertical-align: top;\n",
       "    }\n",
       "\n",
       "    .dataframe thead th {\n",
       "        text-align: right;\n",
       "    }\n",
       "</style>\n",
       "<table border=\"1\" class=\"dataframe\">\n",
       "  <thead>\n",
       "    <tr style=\"text-align: right;\">\n",
       "      <th></th>\n",
       "      <th>title</th>\n",
       "      <th>Year</th>\n",
       "      <th>Director</th>\n",
       "    </tr>\n",
       "  </thead>\n",
       "  <tbody>\n",
       "    <tr>\n",
       "      <th>0</th>\n",
       "      <td>The Shawshank Redemption</td>\n",
       "      <td>1994</td>\n",
       "      <td>Frank Darabont</td>\n",
       "    </tr>\n",
       "    <tr>\n",
       "      <th>1</th>\n",
       "      <td>The Godfather</td>\n",
       "      <td>1972</td>\n",
       "      <td>Francis Ford Coppola</td>\n",
       "    </tr>\n",
       "    <tr>\n",
       "      <th>2</th>\n",
       "      <td>The Dark Knight</td>\n",
       "      <td>2008</td>\n",
       "      <td>Christopher Nolan</td>\n",
       "    </tr>\n",
       "  </tbody>\n",
       "</table>\n",
       "</div>"
      ],
      "text/plain": [
       "                      title   Year              Director\n",
       "0  The Shawshank Redemption   1994        Frank Darabont\n",
       "1             The Godfather   1972  Francis Ford Coppola\n",
       "2           The Dark Knight   2008     Christopher Nolan"
      ]
     },
     "execution_count": 71,
     "metadata": {},
     "output_type": "execute_result"
    }
   ],
   "source": [
    "df1"
   ]
  }
 ],
 "metadata": {
  "kernelspec": {
   "display_name": "Python 3 (ipykernel)",
   "language": "python",
   "name": "python3"
  },
  "language_info": {
   "codemirror_mode": {
    "name": "ipython",
    "version": 3
   },
   "file_extension": ".py",
   "mimetype": "text/x-python",
   "name": "python",
   "nbconvert_exporter": "python",
   "pygments_lexer": "ipython3",
   "version": "3.9.12"
  }
 },
 "nbformat": 4,
 "nbformat_minor": 5
}
