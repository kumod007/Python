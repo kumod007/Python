{
 "cells": [
  {
   "cell_type": "markdown",
   "id": "6bfc2b17",
   "metadata": {},
   "source": [
    "### Question:"
   ]
  },
  {
   "cell_type": "markdown",
   "id": "65763dd6",
   "metadata": {},
   "source": [
    "* Write a program to compute 1/2+2/3+3/4+...+n/n+1 with a given n input by console (n>0). \n",
    " \n",
    "\n",
    "* If the following n is given as input to the program: 5 \n",
    "\n",
    "\n",
    "* Then, the output of the program should be: 3.5\n",
    "\n"
   ]
  },
  {
   "cell_type": "markdown",
   "id": "3de65d81",
   "metadata": {},
   "source": [
    "### Code 1"
   ]
  },
  {
   "cell_type": "code",
   "execution_count": 25,
   "id": "0988ce1e",
   "metadata": {},
   "outputs": [
    {
     "name": "stdout",
     "output_type": "stream",
     "text": [
      "Enter your number: 5\n",
      "3.55\n"
     ]
    }
   ],
   "source": [
    "n = int(input(\"Enter your number: \"))\n",
    "summ=0\n",
    "\n",
    "for i in range(1,n+1):\n",
    "    a=i/(i+1)\n",
    "    summ+=a\n",
    "print(round(summ,2))"
   ]
  }
 ],
 "metadata": {
  "kernelspec": {
   "display_name": "Python 3 (ipykernel)",
   "language": "python",
   "name": "python3"
  },
  "language_info": {
   "codemirror_mode": {
    "name": "ipython",
    "version": 3
   },
   "file_extension": ".py",
   "mimetype": "text/x-python",
   "name": "python",
   "nbconvert_exporter": "python",
   "pygments_lexer": "ipython3",
   "version": "3.9.12"
  }
 },
 "nbformat": 4,
 "nbformat_minor": 5
}
