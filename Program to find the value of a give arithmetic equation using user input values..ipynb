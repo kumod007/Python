{
 "cells": [
  {
   "cell_type": "markdown",
   "id": "29cfeef4",
   "metadata": {},
   "source": [
    "### Question:"
   ]
  },
  {
   "cell_type": "markdown",
   "id": "bddd2c51",
   "metadata": {},
   "source": [
    " * Write a Python program that accepts an integer (n) and computes the value of n+nn+nnn."
   ]
  },
  {
   "cell_type": "markdown",
   "id": "f9cfdd41",
   "metadata": {},
   "source": [
    "### Code 1 (Function)"
   ]
  },
  {
   "cell_type": "code",
   "execution_count": 6,
   "id": "e3a65266",
   "metadata": {},
   "outputs": [
    {
     "name": "stdout",
     "output_type": "stream",
     "text": [
      "Enter your number: 3\n"
     ]
    },
    {
     "data": {
      "text/plain": [
       "369"
      ]
     },
     "execution_count": 6,
     "metadata": {},
     "output_type": "execute_result"
    }
   ],
   "source": [
    "n = int(input(\"Enter your number: \"))\n",
    "a = n\n",
    "\n",
    "def calculate(x):\n",
    "    summ=0\n",
    "    for i in range(x):\n",
    "        summ+=x\n",
    "        x=x*10+a\n",
    "    return summ\n",
    "calculate(n)"
   ]
  },
  {
   "cell_type": "markdown",
   "id": "dddbf44c",
   "metadata": {},
   "source": [
    "### Code 2: (For Loop)"
   ]
  },
  {
   "cell_type": "code",
   "execution_count": 2,
   "id": "d623ede1",
   "metadata": {},
   "outputs": [
    {
     "name": "stdout",
     "output_type": "stream",
     "text": [
      "Enter your value: 3\n",
      "369\n"
     ]
    }
   ],
   "source": [
    "n = int(input(\"Enter your value: \"))\n",
    "a = n\n",
    "summ=0\n",
    "\n",
    "for i in range(n):\n",
    "    summ+=n\n",
    "    n=n*10+a\n",
    "print(summ)"
   ]
  }
 ],
 "metadata": {
  "kernelspec": {
   "display_name": "Python 3 (ipykernel)",
   "language": "python",
   "name": "python3"
  },
  "language_info": {
   "codemirror_mode": {
    "name": "ipython",
    "version": 3
   },
   "file_extension": ".py",
   "mimetype": "text/x-python",
   "name": "python",
   "nbconvert_exporter": "python",
   "pygments_lexer": "ipython3",
   "version": "3.9.12"
  }
 },
 "nbformat": 4,
 "nbformat_minor": 5
}
