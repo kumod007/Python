{
 "cells": [
  {
   "cell_type": "markdown",
   "id": "ef136cfd",
   "metadata": {},
   "source": [
    "### Question:"
   ]
  },
  {
   "cell_type": "markdown",
   "id": "36e95c6f",
   "metadata": {},
   "source": [
    "Write a program that takes as input an array of positive and negative numbers (0 excluded). \n",
    "\n",
    "The objective is to return those items from the array whose sum is 0. \n",
    "\n",
    "If no such items exist return “No Elements found”\n",
    "\n",
    "Example: For an input array [-4, 1, 3, -2, -1],one of the possible results would be 3, -2, -1 since their sum is 0"
   ]
  },
  {
   "cell_type": "markdown",
   "id": "7d69ac30",
   "metadata": {},
   "source": [
    "---"
   ]
  },
  {
   "cell_type": "markdown",
   "id": "7f4e3ac6",
   "metadata": {},
   "source": [
    "## Code:"
   ]
  },
  {
   "cell_type": "code",
   "execution_count": 92,
   "id": "ad2818bf",
   "metadata": {},
   "outputs": [
    {
     "name": "stdout",
     "output_type": "stream",
     "text": [
      "Enter how many elements you want: 5\n",
      "Enter your integer: -4\n",
      "Enter your integer: 1\n",
      "Enter your integer: 3\n",
      "Enter your integer: -2\n",
      "Enter your integer: -1\n"
     ]
    },
    {
     "data": {
      "text/plain": [
       "[-4, 1, 3, -2, -1]"
      ]
     },
     "execution_count": 92,
     "metadata": {},
     "output_type": "execute_result"
    }
   ],
   "source": [
    "n = int(input(\"Enter how many elements you want: \"))\n",
    "x = []\n",
    "for i in range(n):\n",
    "    a = int(input(\"Enter your integer: \"))\n",
    "    if a==0:\n",
    "        print(\"You can't enter 0 as your integer. Try again entering your values: \")\n",
    "        break\n",
    "    else:\n",
    "        x.append(a)\n",
    "x"
   ]
  },
  {
   "cell_type": "code",
   "execution_count": 93,
   "id": "679159b2",
   "metadata": {},
   "outputs": [
    {
     "name": "stdout",
     "output_type": "stream",
     "text": [
      "[-1, 1]\n",
      "[-4, 1, 3]\n",
      "[-2, -1, 3]\n"
     ]
    }
   ],
   "source": [
    "import itertools\n",
    "x = sorted(x)\n",
    "\n",
    "combinations = []\n",
    "\n",
    "for i in range(1, len(x) + 1):\n",
    "    combinations.extend(list(itertools.combinations(x, i)))\n",
    "\n",
    "for k in combinations:\n",
    "    summ = sum(k)\n",
    "    if summ==0:\n",
    "        print(list(k))"
   ]
  }
 ],
 "metadata": {
  "kernelspec": {
   "display_name": "Python 3 (ipykernel)",
   "language": "python",
   "name": "python3"
  },
  "language_info": {
   "codemirror_mode": {
    "name": "ipython",
    "version": 3
   },
   "file_extension": ".py",
   "mimetype": "text/x-python",
   "name": "python",
   "nbconvert_exporter": "python",
   "pygments_lexer": "ipython3",
   "version": "3.9.12"
  }
 },
 "nbformat": 4,
 "nbformat_minor": 5
}
