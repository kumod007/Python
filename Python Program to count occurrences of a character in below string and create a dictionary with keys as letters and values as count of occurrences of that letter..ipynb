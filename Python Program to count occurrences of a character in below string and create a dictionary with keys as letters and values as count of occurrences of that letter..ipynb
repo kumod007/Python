{
 "cells": [
  {
   "cell_type": "markdown",
   "id": "17cab8e3",
   "metadata": {},
   "source": [
    "### Question :\n",
    "**Python Program to count occurrences of a character in below string and create a dictionary with keys as\n",
    "letters and values as count of occurrences of that letter.**"
   ]
  },
  {
   "cell_type": "markdown",
   "id": "b789943a",
   "metadata": {},
   "source": [
    "#### Code:"
   ]
  },
  {
   "cell_type": "code",
   "execution_count": 10,
   "id": "0db37ac1",
   "metadata": {},
   "outputs": [
    {
     "name": "stdout",
     "output_type": "stream",
     "text": [
      "{'f': 8, 'h': 8, 'd': 3, 'l': 4, 's': 7, 'b': 4, 'k': 3, 'j': 2, 'v': 1, 'J': 3, 'K': 2, 'B': 3, 'E': 3, 'F': 6, 'W': 8, 'G': 3, 'U': 3, 'Y': 1, 'R': 2, 'T': 1, 'O': 1, 'I': 1, 'D': 3, 'H': 2, 'V': 1, 'a': 1, 'w': 1, 't': 3, 'u': 1, 'n': 2, 'i': 2, 'g': 1, '7': 4, '5': 4, '3': 1, '8': 1, '9': 1, 'r': 1, '4': 1}\n"
     ]
    }
   ],
   "source": [
    "value = \"fhdflshbfslkhfbslkfbhslfjhbsdvsJKBEFWEGWUYRTWGRUWOFWGEUIFBWDFWDBFHWJDVFHJKasdwtuknfiitngjt75378595hf75hr74h\"\n",
    "\n",
    "character = {}\n",
    "\n",
    "for i in value:\n",
    "    if i in character:\n",
    "        character[i] += 1\n",
    "    else:\n",
    "        character[i] = 1\n",
    "\n",
    "print(character)"
   ]
  }
 ],
 "metadata": {
  "kernelspec": {
   "display_name": "Python 3 (ipykernel)",
   "language": "python",
   "name": "python3"
  },
  "language_info": {
   "codemirror_mode": {
    "name": "ipython",
    "version": 3
   },
   "file_extension": ".py",
   "mimetype": "text/x-python",
   "name": "python",
   "nbconvert_exporter": "python",
   "pygments_lexer": "ipython3",
   "version": "3.9.12"
  }
 },
 "nbformat": 4,
 "nbformat_minor": 5
}
