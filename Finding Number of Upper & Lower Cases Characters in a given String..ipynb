{
 "cells": [
  {
   "cell_type": "markdown",
   "id": "0ec640e0",
   "metadata": {},
   "source": [
    "### Question No 14:"
   ]
  },
  {
   "cell_type": "markdown",
   "id": "7eac10dd",
   "metadata": {},
   "source": [
    "* Write a program that accepts a sentence and calculate the number of upper case letters and lower case letters.\n",
    "* Suppose the input is supplied to the program: Hello world!\n",
    "* Then, the output should be: UPPER CASE 1, LOWER CASE 9\n"
   ]
  },
  {
   "cell_type": "markdown",
   "id": "5e58a633",
   "metadata": {},
   "source": [
    "### Logic 1"
   ]
  },
  {
   "cell_type": "code",
   "execution_count": 1,
   "id": "1f69c4ed",
   "metadata": {},
   "outputs": [
    {
     "name": "stdout",
     "output_type": "stream",
     "text": [
      "Enter your string value: Hello world!\n",
      "\n",
      "UPPER 1\n",
      "LOWER 9\n"
     ]
    }
   ],
   "source": [
    "x = str(input(\"Enter your string value: \"))\n",
    "upper=0\n",
    "lower=0\n",
    "\n",
    "for i in x:\n",
    "    if i.isupper():\n",
    "        upper+=1\n",
    "    if i.islower():\n",
    "        lower+=1\n",
    "print(\"\\nUPPER\",upper)\n",
    "print(\"LOWER\",lower)"
   ]
  },
  {
   "cell_type": "code",
   "execution_count": null,
   "id": "77c285e5",
   "metadata": {},
   "outputs": [],
   "source": []
  },
  {
   "cell_type": "code",
   "execution_count": null,
   "id": "45b7687c",
   "metadata": {},
   "outputs": [],
   "source": []
  },
  {
   "cell_type": "code",
   "execution_count": null,
   "id": "bf167731",
   "metadata": {},
   "outputs": [],
   "source": []
  }
 ],
 "metadata": {
  "kernelspec": {
   "display_name": "Python 3 (ipykernel)",
   "language": "python",
   "name": "python3"
  },
  "language_info": {
   "codemirror_mode": {
    "name": "ipython",
    "version": 3
   },
   "file_extension": ".py",
   "mimetype": "text/x-python",
   "name": "python",
   "nbconvert_exporter": "python",
   "pygments_lexer": "ipython3",
   "version": "3.9.12"
  }
 },
 "nbformat": 4,
 "nbformat_minor": 5
}
