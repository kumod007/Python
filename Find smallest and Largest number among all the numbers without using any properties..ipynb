{
 "cells": [
  {
   "cell_type": "markdown",
   "id": "e144bdfa",
   "metadata": {},
   "source": [
    "Q8. Write a program to accept 10 numbers from the user and display the largest & smallest number."
   ]
  },
  {
   "cell_type": "markdown",
   "id": "97508deb",
   "metadata": {},
   "source": [
    "### Using For Loop"
   ]
  },
  {
   "cell_type": "code",
   "execution_count": 2,
   "id": "0fa8e3a1",
   "metadata": {},
   "outputs": [
    {
     "name": "stdout",
     "output_type": "stream",
     "text": [
      "Enter your number: 54\n",
      "Enter your number: 36\n",
      "Enter your number: 78\n",
      "Enter your number: 357\n",
      "Enter your number: 3573\n",
      "Enter your number: 346623\n",
      "Enter your number: -563\n",
      "Enter your number: 64\n",
      "Enter your number: -5\n",
      "Enter your number: -3\n",
      "\n",
      "Smallest Number among all the entries is:  -563\n",
      "\n",
      "Largest Number among all the entries is:  346623\n"
     ]
    }
   ],
   "source": [
    "min_val = 0\n",
    "max_val = 0\n",
    "\n",
    "for i in range(10):\n",
    "    val = int(input(\"Enter your number: \"))\n",
    "    if i==0:\n",
    "        min_val = val\n",
    "        max_val = val\n",
    "    \n",
    "    else:\n",
    "        \n",
    "        if max_val < val:\n",
    "            max_val = val\n",
    "            \n",
    "        elif max_val > val:\n",
    "            max_val = max_val\n",
    "        \n",
    "        if min_val < val:\n",
    "            min_val = min_val\n",
    "        \n",
    "        elif min_val > val:\n",
    "            min_val = val\n",
    "            \n",
    "print(\"\\nSmallest Number among all the entries is: \",min_val)\n",
    "print(\"\\nLargest Number among all the entries is: \",max_val)"
   ]
  },
  {
   "cell_type": "markdown",
   "id": "76bca1ac",
   "metadata": {},
   "source": [
    "###### Using While Loop"
   ]
  },
  {
   "cell_type": "code",
   "execution_count": 15,
   "id": "8e8316be",
   "metadata": {},
   "outputs": [
    {
     "name": "stdout",
     "output_type": "stream",
     "text": [
      "Enter your number: 34\n",
      "Enter your number: 65\n",
      "Enter your number: 76\n",
      "Enter your number: 45\n",
      "Enter your number: 1\n",
      "Enter your number: 346\n",
      "Enter your number: 34\n",
      "Enter your number: 224\n",
      "Enter your number: 789\n",
      "Enter your number: 45\n",
      "\n",
      "Smallest Number among all the entries is:  1\n",
      "\n",
      "Largest Number among all the entries is:  789\n"
     ]
    }
   ],
   "source": [
    "min_val = 0\n",
    "max_val = 0\n",
    "x = 0\n",
    "\n",
    "while x<10:\n",
    "    val = int(input(\"Enter your number: \"))\n",
    "    if x==0:\n",
    "        min_val=val\n",
    "        max_val=val\n",
    "    else:\n",
    "        if max_val>val:\n",
    "            max_val=max_val\n",
    "       \n",
    "        elif max_val<val:\n",
    "            max_val=val\n",
    "        \n",
    "        if min_val>val:\n",
    "            min_val=val\n",
    "            \n",
    "        elif min_val<val:\n",
    "            min_val=min_val   \n",
    "    x+=1\n",
    "            \n",
    "print(\"\\nSmallest Number among all the entries is: \",min_val)\n",
    "print(\"\\nLargest Number among all the entries is: \",max_val)"
   ]
  },
  {
   "cell_type": "code",
   "execution_count": null,
   "id": "c496d4c4",
   "metadata": {},
   "outputs": [],
   "source": []
  }
 ],
 "metadata": {
  "kernelspec": {
   "display_name": "Python 3 (ipykernel)",
   "language": "python",
   "name": "python3"
  },
  "language_info": {
   "codemirror_mode": {
    "name": "ipython",
    "version": 3
   },
   "file_extension": ".py",
   "mimetype": "text/x-python",
   "name": "python",
   "nbconvert_exporter": "python",
   "pygments_lexer": "ipython3",
   "version": "3.9.12"
  }
 },
 "nbformat": 4,
 "nbformat_minor": 5
}
