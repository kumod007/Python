{
 "cells": [
  {
   "cell_type": "markdown",
   "id": "6f00c901",
   "metadata": {},
   "source": [
    "### Question:"
   ]
  },
  {
   "cell_type": "markdown",
   "id": "d3c322da",
   "metadata": {},
   "source": [
    "* Wap to display the encrypted form of the string entered by user.\n",
    "\n",
    "\n",
    "* Eg: Madrid – encrypted form is pdgulg"
   ]
  },
  {
   "cell_type": "markdown",
   "id": "54e3fc23",
   "metadata": {},
   "source": [
    "### Code:"
   ]
  },
  {
   "cell_type": "code",
   "execution_count": 12,
   "id": "b9789526",
   "metadata": {},
   "outputs": [
    {
     "name": "stdout",
     "output_type": "stream",
     "text": [
      "Enter your values: Madrid\n",
      "\n",
      "The encrypted form is: pdgulg\n"
     ]
    }
   ],
   "source": [
    "x = str(input(\"Enter your values: \")).lower()\n",
    "z = \"\"\n",
    "\n",
    "for i in x:\n",
    "    z+= chr(ord(i)+3)\n",
    "print(\"\\nThe encrypted form is:\",z)"
   ]
  }
 ],
 "metadata": {
  "kernelspec": {
   "display_name": "Python 3 (ipykernel)",
   "language": "python",
   "name": "python3"
  },
  "language_info": {
   "codemirror_mode": {
    "name": "ipython",
    "version": 3
   },
   "file_extension": ".py",
   "mimetype": "text/x-python",
   "name": "python",
   "nbconvert_exporter": "python",
   "pygments_lexer": "ipython3",
   "version": "3.9.12"
  }
 },
 "nbformat": 4,
 "nbformat_minor": 5
}
