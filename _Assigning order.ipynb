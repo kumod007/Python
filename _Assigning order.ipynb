{
 "cells": [
  {
   "cell_type": "markdown",
   "id": "b3b9b81d",
   "metadata": {},
   "source": [
    "# Assing a order to numbers from smallest to largest."
   ]
  },
  {
   "cell_type": "markdown",
   "id": "80ab2e76",
   "metadata": {},
   "source": [
    "Take an input for list of marks and print a new list having the orders of numbers from smallest to largest.\n",
    "\n",
    "Input marks = [100,1,50,-8,0,500,99]\n",
    "\n",
    "\n",
    "Output : = [6,3,4,1,2,7,5]"
   ]
  },
  {
   "cell_type": "markdown",
   "id": "db2a2cd5",
   "metadata": {},
   "source": [
    "### Logic 1:-"
   ]
  },
  {
   "cell_type": "code",
   "execution_count": 1,
   "id": "4fa62b63",
   "metadata": {},
   "outputs": [
    {
     "name": "stdout",
     "output_type": "stream",
     "text": [
      "Enter your marks values: 100 1 50 -8 0 500 99\n",
      "[100, 1, 50, -8, 0, 500, 99]\n",
      "[[-8, 1], [0, 2], [1, 3], [50, 4], [99, 5], [100, 6], [500, 7]]\n"
     ]
    }
   ],
   "source": [
    "marks = list(map(int,input(\"Enter your marks values: \").split()))\n",
    "print(marks)\n",
    "\n",
    "num_rank = []\n",
    "\n",
    "for i in range(len(marks)):\n",
    "    a = min(marks)\n",
    "    num_rank.append([a,i+1])\n",
    "    marks.remove(a)\n",
    "print(num_rank)"
   ]
  }
 ],
 "metadata": {
  "kernelspec": {
   "display_name": "Python 3 (ipykernel)",
   "language": "python",
   "name": "python3"
  },
  "language_info": {
   "codemirror_mode": {
    "name": "ipython",
    "version": 3
   },
   "file_extension": ".py",
   "mimetype": "text/x-python",
   "name": "python",
   "nbconvert_exporter": "python",
   "pygments_lexer": "ipython3",
   "version": "3.9.12"
  }
 },
 "nbformat": 4,
 "nbformat_minor": 5
}
