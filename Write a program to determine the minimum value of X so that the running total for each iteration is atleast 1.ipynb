{
 "cells": [
  {
   "cell_type": "markdown",
   "id": "d48c26c1",
   "metadata": {},
   "source": [
    "Consider an array of integers and non-zero positive starting value x. A running sum is calculated by adding each element of the array to x consecutively. Determine the minimum value of x such that the running sum is at least 1 after every iteration.\n",
    "\n",
    "\n",
    "ex : arr = [-4,3,2,1]\n",
    "\n",
    "let starting value x = 5\n",
    "\n",
    "\n",
    "Running sums:\n",
    "5 + (-4) = 1\n",
    "1 + 3 = 4\n",
    "4 + 2 = 6\n",
    "6 + 1 = 7"
   ]
  },
  {
   "cell_type": "markdown",
   "id": "2677617b",
   "metadata": {},
   "source": [
    "### Code:"
   ]
  },
  {
   "cell_type": "code",
   "execution_count": 1,
   "id": "dcf901e5",
   "metadata": {},
   "outputs": [
    {
     "data": {
      "text/plain": [
       "5"
      ]
     },
     "execution_count": 1,
     "metadata": {},
     "output_type": "execute_result"
    }
   ],
   "source": [
    "arr = [-4,3,2,1]\n",
    "\n",
    "minimum_x = abs(min(arr)) + 1"
   ]
  }
 ],
 "metadata": {
  "kernelspec": {
   "display_name": "Python 3 (ipykernel)",
   "language": "python",
   "name": "python3"
  },
  "language_info": {
   "codemirror_mode": {
    "name": "ipython",
    "version": 3
   },
   "file_extension": ".py",
   "mimetype": "text/x-python",
   "name": "python",
   "nbconvert_exporter": "python",
   "pygments_lexer": "ipython3",
   "version": "3.9.12"
  }
 },
 "nbformat": 4,
 "nbformat_minor": 5
}
