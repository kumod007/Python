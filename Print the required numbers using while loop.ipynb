{
 "cells": [
  {
   "cell_type": "markdown",
   "id": "c4a05113",
   "metadata": {},
   "source": [
    "Write a program to print the following using while loop   \n",
    "\n",
    "a. First 10 Even numbers   \n",
    "\n",
    "b. First 10 Odd numbers   \n",
    "\n",
    "c. First 10 Natural numbers   \n",
    "\n",
    "d. First 10 Whole numbers   \n"
   ]
  },
  {
   "cell_type": "markdown",
   "id": "c0a0ae39",
   "metadata": {},
   "source": [
    "### A. Program for first 10 even numbers."
   ]
  },
  {
   "cell_type": "code",
   "execution_count": 4,
   "id": "cd9aab48",
   "metadata": {},
   "outputs": [
    {
     "name": "stdout",
     "output_type": "stream",
     "text": [
      "Enter how many even numbers you want: 10\n",
      "0 2 4 6 8 10 12 14 16 18 "
     ]
    }
   ],
   "source": [
    "n = int(input(\"Enter how many even numbers you want: \"))*2\n",
    "x=0\n",
    "\n",
    "while x<n:\n",
    "    if x%2==0:\n",
    "        print(x,end=\" \")\n",
    "    x+=1"
   ]
  },
  {
   "cell_type": "markdown",
   "id": "f5686af4",
   "metadata": {},
   "source": [
    "### B. Program for first 10 odd numbers."
   ]
  },
  {
   "cell_type": "code",
   "execution_count": 7,
   "id": "bed906af",
   "metadata": {},
   "outputs": [
    {
     "name": "stdout",
     "output_type": "stream",
     "text": [
      "Enter how many odd numbers you want: 10\n",
      "1 3 5 7 9 11 13 15 17 19 "
     ]
    }
   ],
   "source": [
    "n = int(input(\"Enter how many odd numbers you want: \"))*2\n",
    "x = 0\n",
    "\n",
    "while x<n:\n",
    "    if x%2!=0:\n",
    "        print(x,end=\" \")\n",
    "    x+=1"
   ]
  },
  {
   "cell_type": "markdown",
   "id": "828b8ce2",
   "metadata": {},
   "source": [
    "### C. Program for first 10 natural numbers."
   ]
  },
  {
   "cell_type": "code",
   "execution_count": 12,
   "id": "77c55020",
   "metadata": {},
   "outputs": [
    {
     "name": "stdout",
     "output_type": "stream",
     "text": [
      "Enter how many natural number you want: 10\n",
      "1 2 3 4 5 6 7 8 9 10 "
     ]
    }
   ],
   "source": [
    "n = int(input(\"Enter how many natural number you want: \"))\n",
    "x = 1\n",
    "\n",
    "while x<=n:\n",
    "    print(x,end=\" \")\n",
    "    x+=1"
   ]
  },
  {
   "cell_type": "markdown",
   "id": "ca922c03",
   "metadata": {},
   "source": [
    "### D. Program for first 10 whole numbers."
   ]
  },
  {
   "cell_type": "code",
   "execution_count": 14,
   "id": "dbe04e5d",
   "metadata": {},
   "outputs": [
    {
     "name": "stdout",
     "output_type": "stream",
     "text": [
      "Enter how many whole number you want: 10\n",
      "0 1 2 3 4 5 6 7 8 9 "
     ]
    }
   ],
   "source": [
    "n = int(input(\"Enter how many whole number you want: \"))\n",
    "x = 0\n",
    "\n",
    "while x<n:\n",
    "    print(x,end=\" \")\n",
    "    x+=1"
   ]
  },
  {
   "cell_type": "code",
   "execution_count": null,
   "id": "12d01451",
   "metadata": {},
   "outputs": [],
   "source": []
  }
 ],
 "metadata": {
  "kernelspec": {
   "display_name": "Python 3 (ipykernel)",
   "language": "python",
   "name": "python3"
  },
  "language_info": {
   "codemirror_mode": {
    "name": "ipython",
    "version": 3
   },
   "file_extension": ".py",
   "mimetype": "text/x-python",
   "name": "python",
   "nbconvert_exporter": "python",
   "pygments_lexer": "ipython3",
   "version": "3.9.12"
  }
 },
 "nbformat": 4,
 "nbformat_minor": 5
}
