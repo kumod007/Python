{
 "cells": [
  {
   "cell_type": "markdown",
   "id": "c6483f5f",
   "metadata": {},
   "source": [
    "### Question:"
   ]
  },
  {
   "cell_type": "markdown",
   "id": "bd93f2b1",
   "metadata": {},
   "source": [
    "* You are required to write a program to sort the (name, age, height) tuples by ascending order where name is string, age and height are numbers. The tuples are input by console. The sort criteria is:\n",
    "1: Sort based on name;\n",
    "2: Then sort based on age;\n",
    "3: Then sort by score.\n",
    " \n",
    "\n",
    "* The priority is that name > age > score.\n",
    "* If the following tuples are given as input to the program:\n",
    "* Tom,19,80\n",
    "* John,20,90\n",
    "* Jony,17,91\n",
    "* Jony,17,93\n",
    "* Json,21,85\n",
    "* Then, the output of the program should be:\n",
    "* [('John', '20', '90'), ('Jony', '17', '91'), ('Jony', '17', '93'), ('Json', '21', '85'), ('Tom', '19', '80')] "
   ]
  },
  {
   "cell_type": "markdown",
   "id": "547cc71d",
   "metadata": {},
   "source": [
    "### Code:"
   ]
  },
  {
   "cell_type": "code",
   "execution_count": 2,
   "id": "0514e4b9",
   "metadata": {},
   "outputs": [
    {
     "name": "stdout",
     "output_type": "stream",
     "text": [
      "Enter your number: 5\n",
      "Enter your values with comma separated: Tom,19,80\n",
      "Enter your values with comma separated: John,20,90\n",
      "Enter your values with comma separated: Jony,17,91\n",
      "Enter your values with comma separated: Jony,17,93\n",
      "Enter your values with comma separated: Json,21,85\n",
      "[('Tom', '19', '80'), ('John', '20', '90'), ('Jony', '17', '91'), ('Jony', '17', '93'), ('Json', '21', '85')]\n"
     ]
    }
   ],
   "source": [
    "n = int(input(\"Enter your number: \"))\n",
    "list1 = []\n",
    "\n",
    "for i in range(n):\n",
    "    a = tuple(map(str,input(\"Enter your values with comma separated: \").split(\",\")))\n",
    "    list1.append(a)\n",
    "print(list1)\n",
    "    "
   ]
  },
  {
   "cell_type": "code",
   "execution_count": 3,
   "id": "22055fa0",
   "metadata": {},
   "outputs": [
    {
     "data": {
      "text/plain": [
       "[('John', '20', '90'),\n",
       " ('Jony', '17', '91'),\n",
       " ('Jony', '17', '93'),\n",
       " ('Json', '21', '85'),\n",
       " ('Tom', '19', '80')]"
      ]
     },
     "execution_count": 3,
     "metadata": {},
     "output_type": "execute_result"
    }
   ],
   "source": [
    "sorted(list1)"
   ]
  }
 ],
 "metadata": {
  "kernelspec": {
   "display_name": "Python 3 (ipykernel)",
   "language": "python",
   "name": "python3"
  },
  "language_info": {
   "codemirror_mode": {
    "name": "ipython",
    "version": 3
   },
   "file_extension": ".py",
   "mimetype": "text/x-python",
   "name": "python",
   "nbconvert_exporter": "python",
   "pygments_lexer": "ipython3",
   "version": "3.9.12"
  }
 },
 "nbformat": 4,
 "nbformat_minor": 5
}
