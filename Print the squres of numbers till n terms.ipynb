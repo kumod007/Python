{
 "cells": [
  {
   "cell_type": "markdown",
   "id": "6a99df21",
   "metadata": {},
   "source": [
    "Q9. Write a program to print the following series till n terms.   \n",
    "1\n",
    " 4\n",
    " 9\n",
    " 16\n",
    " 25\n",
    " .\n",
    ".\n",
    ".\n",
    "\n",
    " n terms.   \n"
   ]
  },
  {
   "cell_type": "markdown",
   "id": "db103516",
   "metadata": {},
   "source": [
    "### Using For Loop"
   ]
  },
  {
   "cell_type": "code",
   "execution_count": 2,
   "id": "ca25252d",
   "metadata": {},
   "outputs": [
    {
     "name": "stdout",
     "output_type": "stream",
     "text": [
      "Enter your range value: 20\n",
      "1  4  9  16  25  36  49  64  81  100  121  144  169  196  225  256  289  324  361  400  "
     ]
    }
   ],
   "source": [
    "n = int(input(\"Enter your range value: \"))\n",
    "\n",
    "for i in range(1,n+1):\n",
    "    print(i**2,end=\"  \")\n",
    "    "
   ]
  },
  {
   "cell_type": "markdown",
   "id": "711df1eb",
   "metadata": {},
   "source": [
    "### Using While Loop"
   ]
  },
  {
   "cell_type": "code",
   "execution_count": 4,
   "id": "e0974d40",
   "metadata": {},
   "outputs": [
    {
     "name": "stdout",
     "output_type": "stream",
     "text": [
      "Enter your range value: 20\n",
      "1  4  9  16  25  36  49  64  81  100  121  144  169  196  225  256  289  324  361  400  "
     ]
    }
   ],
   "source": [
    "n = int(input(\"Enter your range value: \"))\n",
    "x = 1\n",
    "\n",
    "while x<=n:\n",
    "    print(x**2,end=\"  \")\n",
    "    x+=1"
   ]
  },
  {
   "cell_type": "code",
   "execution_count": null,
   "id": "1267a1f3",
   "metadata": {},
   "outputs": [],
   "source": []
  }
 ],
 "metadata": {
  "kernelspec": {
   "display_name": "Python 3 (ipykernel)",
   "language": "python",
   "name": "python3"
  },
  "language_info": {
   "codemirror_mode": {
    "name": "ipython",
    "version": 3
   },
   "file_extension": ".py",
   "mimetype": "text/x-python",
   "name": "python",
   "nbconvert_exporter": "python",
   "pygments_lexer": "ipython3",
   "version": "3.9.12"
  }
 },
 "nbformat": 4,
 "nbformat_minor": 5
}
