{
 "cells": [
  {
   "cell_type": "markdown",
   "id": "c65b0414",
   "metadata": {},
   "source": [
    "Given an array of N integers. Find the first element that occurs at least K number of times.\n",
    " \n",
    "\n",
    "Example 1:\n",
    "\n",
    "Input :\n",
    "\n",
    "N = 7, K = 2\n",
    "\n",
    "A[] = {1, 7, 4, 3, 4, 8, 7}\n",
    "\n",
    "Output : 4\n",
    "\n",
    "Explanation: Both 7 and 4 occur 2 times. But 4 is first that occurs 2 times. As at index = 4, 4 has occurred atleast 2 times whereas at index = 6,7 has occurred atleast 2 times."
   ]
  },
  {
   "cell_type": "code",
   "execution_count": 2,
   "id": "ce691937",
   "metadata": {},
   "outputs": [
    {
     "name": "stdout",
     "output_type": "stream",
     "text": [
      "Enter your range: 7\n",
      "Enter how many times numbers should be repeated: 2\n",
      "Enter 7 times values for list: 1 7 4 3 4 8 7\n"
     ]
    }
   ],
   "source": [
    "n = int(input(\"Enter your range: \"))\n",
    "k = int(input(\"Enter how many times numbers should be repeated: \"))\n",
    "arr = list(map(int,input(f\"Enter {n} times values for list: \").split()))"
   ]
  },
  {
   "cell_type": "code",
   "execution_count": 13,
   "id": "bacc759b",
   "metadata": {},
   "outputs": [],
   "source": [
    "class solution():\n",
    "    def element_occuring_first_k_times(self,arr,n,k):\n",
    "        \n",
    "        list1=[]\n",
    "        for idx,val in enumerate(arr):\n",
    "            \n",
    "            count = arr.count(val)\n",
    "            if count>=k:\n",
    "                list1.append([idx,val])\n",
    "        \n",
    "        idx==23"
   ]
  },
  {
   "cell_type": "code",
   "execution_count": 14,
   "id": "a09a9979",
   "metadata": {},
   "outputs": [],
   "source": [
    "ob = solution()"
   ]
  },
  {
   "cell_type": "code",
   "execution_count": 15,
   "id": "dfe4d957",
   "metadata": {},
   "outputs": [
    {
     "data": {
      "text/plain": [
       "[[1, 7], [2, 4], [4, 4], [6, 7]]"
      ]
     },
     "execution_count": 15,
     "metadata": {},
     "output_type": "execute_result"
    }
   ],
   "source": [
    "ob.element_occuring_first_k_times(arr,n,k)"
   ]
  },
  {
   "cell_type": "code",
   "execution_count": null,
   "id": "83354d36",
   "metadata": {},
   "outputs": [],
   "source": []
  }
 ],
 "metadata": {
  "kernelspec": {
   "display_name": "Python 3 (ipykernel)",
   "language": "python",
   "name": "python3"
  },
  "language_info": {
   "codemirror_mode": {
    "name": "ipython",
    "version": 3
   },
   "file_extension": ".py",
   "mimetype": "text/x-python",
   "name": "python",
   "nbconvert_exporter": "python",
   "pygments_lexer": "ipython3",
   "version": "3.9.12"
  }
 },
 "nbformat": 4,
 "nbformat_minor": 5
}
