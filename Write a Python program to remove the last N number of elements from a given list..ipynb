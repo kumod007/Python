{
 "cells": [
  {
   "cell_type": "markdown",
   "id": "20ecc440",
   "metadata": {},
   "source": [
    "### Question No 37:"
   ]
  },
  {
   "cell_type": "markdown",
   "id": "76c3d888",
   "metadata": {},
   "source": [
    "* Write a Python program to remove the last N number of elements from a given list.  \n",
    "\n",
    "\n",
    "* Original lists:[2, 3, 9, 8, 2, 0, 39, 84, 2, 2, 34, 2, 34, 5, 3, 5]\n",
    "\n",
    "\n",
    "* Remove the last 3 elements from the said list:[2, 3, 9, 8, 2, 0, 39, 84, 2, 2, 34, 2, 34]\n"
   ]
  },
  {
   "cell_type": "markdown",
   "id": "4dde8fa0",
   "metadata": {},
   "source": [
    "### Code 1: (Using Slicing)"
   ]
  },
  {
   "cell_type": "code",
   "execution_count": 3,
   "id": "b98107fe",
   "metadata": {},
   "outputs": [
    {
     "name": "stdout",
     "output_type": "stream",
     "text": [
      "Enter how many elements you want to remove: 3\n",
      "[2, 3, 9, 8, 2, 0, 39, 84, 2, 2, 34, 2, 34]\n"
     ]
    }
   ],
   "source": [
    "x = [2,3,9,8,2,0,39,84,2,2,34,2,34,5,3,5]\n",
    "n = int(input(\"Enter how many elements you want to remove: \"))\n",
    "\n",
    "z = x[-len(x):-n]\n",
    "print(z)"
   ]
  },
  {
   "cell_type": "markdown",
   "id": "83b7b791",
   "metadata": {},
   "source": [
    "### Code 2:- Using Del Function"
   ]
  },
  {
   "cell_type": "code",
   "execution_count": 9,
   "id": "741c8810",
   "metadata": {},
   "outputs": [
    {
     "name": "stdout",
     "output_type": "stream",
     "text": [
      "Enter how many elements you want to remove: 3\n",
      "[2, 3, 9, 8, 2, 0, 39, 84, 2, 2, 34, 2, 34]\n"
     ]
    }
   ],
   "source": [
    "x = [2,3,9,8,2,0,39,84,2,2,34,2,34,5,3,5]\n",
    "n = int(input(\"Enter how many elements you want to remove: \"))\n",
    "\n",
    "del x[-n:]\n",
    "print(x)"
   ]
  }
 ],
 "metadata": {
  "kernelspec": {
   "display_name": "Python 3 (ipykernel)",
   "language": "python",
   "name": "python3"
  },
  "language_info": {
   "codemirror_mode": {
    "name": "ipython",
    "version": 3
   },
   "file_extension": ".py",
   "mimetype": "text/x-python",
   "name": "python",
   "nbconvert_exporter": "python",
   "pygments_lexer": "ipython3",
   "version": "3.9.12"
  }
 },
 "nbformat": 4,
 "nbformat_minor": 5
}
