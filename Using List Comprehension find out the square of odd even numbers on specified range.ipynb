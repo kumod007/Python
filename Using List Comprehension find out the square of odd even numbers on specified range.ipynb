{
 "cells": [
  {
   "cell_type": "markdown",
   "id": "fc0fc221",
   "metadata": {},
   "source": [
    "### Question:"
   ]
  },
  {
   "cell_type": "markdown",
   "id": "6790f149",
   "metadata": {},
   "source": [
    "* Use a list comprehension to square each odd number in a list. The list is input by a sequence of comma-separated numbers.\n",
    "\n",
    "\n",
    "* Suppose the input is supplied to the program: 1,2,3,4,5,6,7,8,9\n",
    "* Then, the output should be: 1,9,25,49,81"
   ]
  },
  {
   "cell_type": "markdown",
   "id": "971fcab3",
   "metadata": {},
   "source": [
    "### Code:"
   ]
  },
  {
   "cell_type": "code",
   "execution_count": 5,
   "id": "f45062b0",
   "metadata": {},
   "outputs": [
    {
     "name": "stdout",
     "output_type": "stream",
     "text": [
      "Enter your number: 9\n",
      "\n",
      "The required output is: [1, 9, 25, 49, 81]\n"
     ]
    }
   ],
   "source": [
    "n = int(input(\"Enter your number: \"))\n",
    "\n",
    "z = [i*i for i in range(n+1) if i%2!=0]\n",
    "print(\"\\nThe required output is:\",z)"
   ]
  }
 ],
 "metadata": {
  "kernelspec": {
   "display_name": "Python 3 (ipykernel)",
   "language": "python",
   "name": "python3"
  },
  "language_info": {
   "codemirror_mode": {
    "name": "ipython",
    "version": 3
   },
   "file_extension": ".py",
   "mimetype": "text/x-python",
   "name": "python",
   "nbconvert_exporter": "python",
   "pygments_lexer": "ipython3",
   "version": "3.9.12"
  }
 },
 "nbformat": 4,
 "nbformat_minor": 5
}
