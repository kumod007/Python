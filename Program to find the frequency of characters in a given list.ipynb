{
 "cells": [
  {
   "cell_type": "markdown",
   "id": "dd6a96da",
   "metadata": {},
   "source": [
    "### Question:"
   ]
  },
  {
   "cell_type": "markdown",
   "id": "2aea0ea7",
   "metadata": {},
   "source": [
    "* Write a program to compute the frequency of the words from the input. The output should output after sorting the key alphanumerically.\n",
    "\n",
    "\n",
    "* Suppose the input is supplied to the program:\n",
    "* New to Python or choosing between Python 2 and Python 3? Read Python 2 or Python 3.\n",
    "\n",
    "\n",
    "* Then, the output should be:\n",
    "* 2:2 \n",
    "* New:1\n",
    "\n",
    "* 3.:1\n",
    "* 3?:1\n",
    "* Python:5\n",
    "* Read:1\n",
    "* and:1\n",
    "* between:1\n",
    "* choosing:1\n",
    "* or:2\n",
    "* to:1 "
   ]
  },
  {
   "cell_type": "markdown",
   "id": "414a106f",
   "metadata": {},
   "source": [
    "### Code:"
   ]
  },
  {
   "cell_type": "code",
   "execution_count": 1,
   "id": "339d8dc8",
   "metadata": {},
   "outputs": [
    {
     "name": "stdout",
     "output_type": "stream",
     "text": [
      "Enter your words: New to Python or choosing between Python 2 and Python 3? Read Python 2 or Python 3.\n",
      "2 : 2\n",
      "choosing : 1\n",
      "or : 2\n",
      "3. : 1\n",
      "and : 1\n",
      "3? : 1\n",
      "Read : 1\n",
      "to : 1\n",
      "between : 1\n",
      "Python : 5\n",
      "New : 1\n"
     ]
    }
   ],
   "source": [
    "x = str(input(\"Enter your words: \")).split()\n",
    "z = set(x)\n",
    "\n",
    "for i in z:\n",
    "    print(i,\":\",x.count(i))"
   ]
  },
  {
   "cell_type": "code",
   "execution_count": null,
   "id": "db2541af",
   "metadata": {},
   "outputs": [],
   "source": []
  }
 ],
 "metadata": {
  "kernelspec": {
   "display_name": "Python 3 (ipykernel)",
   "language": "python",
   "name": "python3"
  },
  "language_info": {
   "codemirror_mode": {
    "name": "ipython",
    "version": 3
   },
   "file_extension": ".py",
   "mimetype": "text/x-python",
   "name": "python",
   "nbconvert_exporter": "python",
   "pygments_lexer": "ipython3",
   "version": "3.9.12"
  }
 },
 "nbformat": 4,
 "nbformat_minor": 5
}
