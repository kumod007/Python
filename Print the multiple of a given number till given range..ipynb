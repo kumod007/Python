{
 "cells": [
  {
   "cell_type": "markdown",
   "id": "7b91901d",
   "metadata": {},
   "source": [
    "Q3. Write for loop statement to print the following series:   \n",
    "\n",
    "10\n",
    "\n",
    "20\n",
    "\n",
    "30 \n",
    "\n",
    ".\n",
    "\n",
    ".\n",
    "\n",
    ".\n",
    "\n",
    "300   \n"
   ]
  },
  {
   "cell_type": "markdown",
   "id": "6343942f",
   "metadata": {},
   "source": [
    "### Using For Loop."
   ]
  },
  {
   "cell_type": "code",
   "execution_count": 1,
   "id": "61f517b4",
   "metadata": {},
   "outputs": [
    {
     "name": "stdout",
     "output_type": "stream",
     "text": [
      "Enter number to print its multiple: 10\n",
      "Enter range till you want to print its multiple: 30\n",
      "10\n",
      "20\n",
      "30\n",
      "40\n",
      "50\n",
      "60\n",
      "70\n",
      "80\n",
      "90\n",
      "100\n",
      "110\n",
      "120\n",
      "130\n",
      "140\n",
      "150\n",
      "160\n",
      "170\n",
      "180\n",
      "190\n",
      "200\n",
      "210\n",
      "220\n",
      "230\n",
      "240\n",
      "250\n",
      "260\n",
      "270\n",
      "280\n",
      "290\n",
      "300\n"
     ]
    }
   ],
   "source": [
    "x = int(input(\"Enter number to print its multiple: \"))\n",
    "y = int(input(\"Enter range till you want to print its multiple: \"))\n",
    "\n",
    "for i in range(1,y+1):\n",
    "    print(x*i)"
   ]
  },
  {
   "cell_type": "markdown",
   "id": "a0e480c6",
   "metadata": {},
   "source": [
    "### Using While Loop"
   ]
  },
  {
   "cell_type": "code",
   "execution_count": 3,
   "id": "97a96546",
   "metadata": {},
   "outputs": [
    {
     "name": "stdout",
     "output_type": "stream",
     "text": [
      "Enter number to print its multiple: 10\n",
      "Enter range till you want to print its multiple: 30\n",
      "10\n",
      "20\n",
      "30\n",
      "40\n",
      "50\n",
      "60\n",
      "70\n",
      "80\n",
      "90\n",
      "100\n",
      "110\n",
      "120\n",
      "130\n",
      "140\n",
      "150\n",
      "160\n",
      "170\n",
      "180\n",
      "190\n",
      "200\n",
      "210\n",
      "220\n",
      "230\n",
      "240\n",
      "250\n",
      "260\n",
      "270\n",
      "280\n",
      "290\n",
      "300\n"
     ]
    }
   ],
   "source": [
    "x = int(input(\"Enter number to print its multiple: \"))\n",
    "y = int(input(\"Enter range till you want to print its multiple: \"))\n",
    "z = 1\n",
    "\n",
    "while z<=y:\n",
    "    print(x*z)\n",
    "    z+=1"
   ]
  },
  {
   "cell_type": "code",
   "execution_count": null,
   "id": "5b9c29ff",
   "metadata": {},
   "outputs": [],
   "source": []
  }
 ],
 "metadata": {
  "kernelspec": {
   "display_name": "Python 3 (ipykernel)",
   "language": "python",
   "name": "python3"
  },
  "language_info": {
   "codemirror_mode": {
    "name": "ipython",
    "version": 3
   },
   "file_extension": ".py",
   "mimetype": "text/x-python",
   "name": "python",
   "nbconvert_exporter": "python",
   "pygments_lexer": "ipython3",
   "version": "3.9.12"
  }
 },
 "nbformat": 4,
 "nbformat_minor": 5
}
