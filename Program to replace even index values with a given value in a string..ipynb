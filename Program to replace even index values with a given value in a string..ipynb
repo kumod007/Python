{
 "cells": [
  {
   "cell_type": "markdown",
   "id": "f56e28fb",
   "metadata": {},
   "source": [
    "### Question:"
   ]
  },
  {
   "cell_type": "raw",
   "id": "aeaf3aa5",
   "metadata": {},
   "source": [
    "* Write a program which takes a input as a string  and print * at all the even indexes\n",
    "\n",
    "* Suppose the input is supplied to the program: deepanshu\n",
    "\n",
    "* Then the output should be: *e*p*n*h*"
   ]
  },
  {
   "cell_type": "markdown",
   "id": "1298a021",
   "metadata": {},
   "source": [
    "### Logic 1 (List Comphrehension)"
   ]
  },
  {
   "cell_type": "code",
   "execution_count": 13,
   "id": "f740e693",
   "metadata": {},
   "outputs": [
    {
     "name": "stdout",
     "output_type": "stream",
     "text": [
      "Enter your string values: deepanshu\n",
      "\n",
      "The required output is: *e*p*n*h*\n"
     ]
    }
   ],
   "source": [
    "x = str(input(\"Enter your string values: \"))\n",
    "\n",
    "z = \"\".join([\"*\" if i%2==0 else x[i] for i in range(len(x))])\n",
    "print(\"\\nThe required output is:\",z)"
   ]
  },
  {
   "cell_type": "markdown",
   "id": "5f5e7389",
   "metadata": {},
   "source": [
    "### Logic 2 (Loop)"
   ]
  },
  {
   "cell_type": "code",
   "execution_count": 1,
   "id": "d10cf939",
   "metadata": {},
   "outputs": [
    {
     "name": "stdout",
     "output_type": "stream",
     "text": [
      "Enter your string values: deepanshu\n",
      "*e*p*n*h*\n"
     ]
    }
   ],
   "source": [
    "x = str(input(\"Enter your string values: \"))\n",
    "z=\"\"\n",
    "\n",
    "for i in range(len(x)):\n",
    "    if i%2==0:\n",
    "        z+=\"*\"\n",
    "    else:\n",
    "        z+=x[i]\n",
    "print(z)"
   ]
  },
  {
   "cell_type": "code",
   "execution_count": null,
   "id": "90e60fa4",
   "metadata": {},
   "outputs": [],
   "source": []
  }
 ],
 "metadata": {
  "kernelspec": {
   "display_name": "Python 3 (ipykernel)",
   "language": "python",
   "name": "python3"
  },
  "language_info": {
   "codemirror_mode": {
    "name": "ipython",
    "version": 3
   },
   "file_extension": ".py",
   "mimetype": "text/x-python",
   "name": "python",
   "nbconvert_exporter": "python",
   "pygments_lexer": "ipython3",
   "version": "3.9.12"
  }
 },
 "nbformat": 4,
 "nbformat_minor": 5
}
