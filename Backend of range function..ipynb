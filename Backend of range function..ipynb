{
 "cells": [
  {
   "cell_type": "markdown",
   "id": "4b7b0ef8",
   "metadata": {},
   "source": [
    "## Create a backend of range function:"
   ]
  },
  {
   "cell_type": "code",
   "execution_count": 1,
   "id": "c93662af",
   "metadata": {},
   "outputs": [],
   "source": [
    "def range_function(x,y,z):\n",
    "    while x<y:\n",
    "        print(x,end=\" \")\n",
    "        if z==0:\n",
    "            x+=1\n",
    "        else:\n",
    "            x+=z\n",
    "    \n",
    "    while x>y:\n",
    "        print(x,end=\" \")\n",
    "        if z==0:\n",
    "            x-=1\n",
    "        else:\n",
    "            x-=z"
   ]
  },
  {
   "cell_type": "code",
   "execution_count": 19,
   "id": "b5a0bb5d",
   "metadata": {},
   "outputs": [
    {
     "name": "stdout",
     "output_type": "stream",
     "text": [
      "Do you want starting range yes/no: yes\n",
      "Enter your starting range: 100\n",
      "Do you want sending range  yes/no: no\n",
      "Do you want step size yes/no: yes\n",
      "Enter your step size: 2\n"
     ]
    }
   ],
   "source": [
    "a = str(input(\"Do you want starting range yes/no: \"))\n",
    "if a==\"yes\":\n",
    "    x=int(input(\"Enter your starting range: \"))\n",
    "else:\n",
    "    x=0\n",
    "b = str(input(\"Do you want sending range  yes/no: \"))\n",
    "if b==\"yes\":\n",
    "    y=int(input(\"Enter your ending range: \"))\n",
    "else:\n",
    "    y=0\n",
    "\n",
    "c = str(input(\"Do you want step size yes/no: \"))\n",
    "if c==\"yes\":\n",
    "    z=int(input(\"Enter your step size: \"))\n",
    "else:\n",
    "    z=0"
   ]
  },
  {
   "cell_type": "code",
   "execution_count": 20,
   "id": "5fb4f186",
   "metadata": {},
   "outputs": [
    {
     "name": "stdout",
     "output_type": "stream",
     "text": [
      "100 0 2\n"
     ]
    }
   ],
   "source": [
    "print(x,y,z)"
   ]
  },
  {
   "cell_type": "code",
   "execution_count": 21,
   "id": "19cf54b6",
   "metadata": {},
   "outputs": [
    {
     "name": "stdout",
     "output_type": "stream",
     "text": [
      "100 98 96 94 92 90 88 86 84 82 80 78 76 74 72 70 68 66 64 62 60 58 56 54 52 50 48 46 44 42 40 38 36 34 32 30 28 26 24 22 20 18 16 14 12 10 8 6 4 2 "
     ]
    }
   ],
   "source": [
    "range_function(x,y,z)"
   ]
  }
 ],
 "metadata": {
  "kernelspec": {
   "display_name": "Python 3 (ipykernel)",
   "language": "python",
   "name": "python3"
  },
  "language_info": {
   "codemirror_mode": {
    "name": "ipython",
    "version": 3
   },
   "file_extension": ".py",
   "mimetype": "text/x-python",
   "name": "python",
   "nbconvert_exporter": "python",
   "pygments_lexer": "ipython3",
   "version": "3.9.12"
  }
 },
 "nbformat": 4,
 "nbformat_minor": 5
}
