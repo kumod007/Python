{
 "cells": [
  {
   "cell_type": "markdown",
   "id": "0de60988",
   "metadata": {},
   "source": [
    "## Question:"
   ]
  },
  {
   "cell_type": "markdown",
   "id": "7ed255ff",
   "metadata": {},
   "source": [
    "### Convert all the element of the list in cm and remove its unit. after that convert the all element into integer\n"
   ]
  },
  {
   "cell_type": "markdown",
   "id": "c58fa6c9",
   "metadata": {
    "scrolled": false
   },
   "source": [
    "**z=['120.5cm','5ft10in','130cm','10ft','30ft2in','170cm']**<br>\n",
    "\n",
    "**Note**<br>\n",
    "**1ft = 30.48cm, 1in = 2.54cm**"
   ]
  },
  {
   "cell_type": "markdown",
   "id": "3b42122b",
   "metadata": {},
   "source": [
    "### Code:"
   ]
  },
  {
   "cell_type": "code",
   "execution_count": 50,
   "id": "8507378a",
   "metadata": {
    "scrolled": false
   },
   "outputs": [],
   "source": [
    "z=['120.5cm','5ft10in','130cm',\"10ft\",'30ft2in','170cm']\n",
    "x = []\n",
    "\n",
    "for i in z:\n",
    "    if \"cm\" in i:\n",
    "        x.append(round(float(i.replace(\"cm\",\"\"))))\n",
    "    else:\n",
    "        a = i.replace(\"in\",\"\")\n",
    "        b = a.split(\"ft\")\n",
    "        if len(b[1])>0:\n",
    "            c = round((float(b[0])*30.48) + (float(b[1])*2.54))\n",
    "            x.append(c)\n",
    "        else:\n",
    "            d = round((float(b[0])*30.48))\n",
    "            x.append(d)\n",
    "    "
   ]
  },
  {
   "cell_type": "code",
   "execution_count": 51,
   "id": "4db37cd5",
   "metadata": {},
   "outputs": [
    {
     "data": {
      "text/plain": [
       "[120, 178, 130, 305, 919, 170]"
      ]
     },
     "execution_count": 51,
     "metadata": {},
     "output_type": "execute_result"
    }
   ],
   "source": [
    "x"
   ]
  }
 ],
 "metadata": {
  "kernelspec": {
   "display_name": "Python 3 (ipykernel)",
   "language": "python",
   "name": "python3"
  },
  "language_info": {
   "codemirror_mode": {
    "name": "ipython",
    "version": 3
   },
   "file_extension": ".py",
   "mimetype": "text/x-python",
   "name": "python",
   "nbconvert_exporter": "python",
   "pygments_lexer": "ipython3",
   "version": "3.9.12"
  }
 },
 "nbformat": 4,
 "nbformat_minor": 5
}
