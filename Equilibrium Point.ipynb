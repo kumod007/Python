{
 "cells": [
  {
   "cell_type": "markdown",
   "id": "1a8a226c",
   "metadata": {},
   "source": [
    "Given an array A of n positive numbers. The task is to find the first Equilibrium Point in an array. \n",
    "Equilibrium Point in an array is a position such that the sum of elements before it is equal to the sum of elements after it.\n",
    "\n",
    "Note: Retun the index of Equilibrium point. (1-based index)\n",
    "\n",
    "Example 1:\n",
    "\n",
    "Input: n = 5 \n",
    "\n",
    "A[] = {1,3,5,2,2} \n",
    "\n",
    "Output: 3 \n",
    "\n",
    "Explanation:  equilibrium point is at position 3 as elements before it (1+3) = elements after it (2+2). \n",
    " \n",
    "\n",
    "Example 2:\n",
    "\n",
    "Input: n = 1\n",
    "\n",
    "A[] = {1}\n",
    "\n",
    "Output: 1\n",
    "\n",
    "Explanation: Since its the only element hence its the only equilibrium point.\n",
    " \n",
    "\n",
    "Your Task:\n",
    "The task is to complete the function equilibriumPoint() which takes the array and n as input parameters and returns the point of equilibrium. Return -1 if no such point exists."
   ]
  },
  {
   "cell_type": "markdown",
   "id": "f12695e3",
   "metadata": {},
   "source": [
    "### Logic 1:-"
   ]
  },
  {
   "cell_type": "code",
   "execution_count": 2,
   "id": "6cdc313b",
   "metadata": {},
   "outputs": [],
   "source": [
    "class solution():\n",
    "    def equilibrium_point(self, n, list1):\n",
    "        \n",
    "        for i in range(n):\n",
    "            \n",
    "            if n==1:\n",
    "                print(n)\n",
    "                break\n",
    "            \n",
    "            if sum(list1[:i]) == sum(list1[i+1:]):\n",
    "                print(i+1)\n",
    "                break\n",
    "                \n",
    "        else:\n",
    "            print(-1)"
   ]
  },
  {
   "cell_type": "code",
   "execution_count": 3,
   "id": "c39ec46d",
   "metadata": {},
   "outputs": [
    {
     "name": "stdout",
     "output_type": "stream",
     "text": [
      "How many entries you want: 5\n",
      "Enter your value 5 times with spaces: 1 3 5 2 2\n"
     ]
    }
   ],
   "source": [
    "n = int(input(\"How many entries you want: \"))\n",
    "list1 = list(map(int,input(f\"Enter your value {n} times with spaces: \").strip().split()))"
   ]
  },
  {
   "cell_type": "code",
   "execution_count": 4,
   "id": "942106e3",
   "metadata": {},
   "outputs": [],
   "source": [
    "ob = solution()"
   ]
  },
  {
   "cell_type": "code",
   "execution_count": 5,
   "id": "fecaaa67",
   "metadata": {},
   "outputs": [
    {
     "name": "stdout",
     "output_type": "stream",
     "text": [
      "3\n"
     ]
    }
   ],
   "source": [
    "ob.equilibrium_point(n,list1)"
   ]
  },
  {
   "cell_type": "markdown",
   "id": "0f795211",
   "metadata": {},
   "source": [
    "### Logic 2:-"
   ]
  },
  {
   "cell_type": "code",
   "execution_count": 29,
   "id": "948b2b2c",
   "metadata": {},
   "outputs": [],
   "source": [
    "class solution2:\n",
    "    def equilibrium_point(self, n, list1):\n",
    "        total_sum = sum(list1)\n",
    "        left_sum = 0\n",
    "        \n",
    "        for idx,val in enumerate(list1):\n",
    "            \n",
    "            total_sum-=val\n",
    "        \n",
    "            if left_sum == total_sum:\n",
    "                return idx+1\n",
    "        \n",
    "            left_sum+=val\n",
    "        \n",
    "        return - 1"
   ]
  },
  {
   "cell_type": "code",
   "execution_count": 30,
   "id": "c2d07acb",
   "metadata": {},
   "outputs": [
    {
     "name": "stdout",
     "output_type": "stream",
     "text": [
      "How many entries you want: 5\n",
      "Enter your value 5 times with spaces: 1 3 5 2 2\n"
     ]
    }
   ],
   "source": [
    "n = int(input(\"How many entries you want: \"))\n",
    "list1 = list(map(int,input(f\"Enter your value {n} times with spaces: \").strip().split()))"
   ]
  },
  {
   "cell_type": "code",
   "execution_count": 31,
   "id": "6051c2bb",
   "metadata": {},
   "outputs": [],
   "source": [
    "ob2 = solution2()"
   ]
  },
  {
   "cell_type": "code",
   "execution_count": 32,
   "id": "a844bd17",
   "metadata": {},
   "outputs": [
    {
     "data": {
      "text/plain": [
       "3"
      ]
     },
     "execution_count": 32,
     "metadata": {},
     "output_type": "execute_result"
    }
   ],
   "source": [
    "ob2.equilibrium_point(n,list1)"
   ]
  },
  {
   "cell_type": "code",
   "execution_count": null,
   "id": "d072d7c9",
   "metadata": {},
   "outputs": [],
   "source": []
  },
  {
   "cell_type": "code",
   "execution_count": null,
   "id": "76545390",
   "metadata": {},
   "outputs": [],
   "source": []
  },
  {
   "cell_type": "code",
   "execution_count": null,
   "id": "636902b7",
   "metadata": {},
   "outputs": [],
   "source": []
  }
 ],
 "metadata": {
  "kernelspec": {
   "display_name": "Python 3 (ipykernel)",
   "language": "python",
   "name": "python3"
  },
  "language_info": {
   "codemirror_mode": {
    "name": "ipython",
    "version": 3
   },
   "file_extension": ".py",
   "mimetype": "text/x-python",
   "name": "python",
   "nbconvert_exporter": "python",
   "pygments_lexer": "ipython3",
   "version": "3.9.12"
  }
 },
 "nbformat": 4,
 "nbformat_minor": 5
}
