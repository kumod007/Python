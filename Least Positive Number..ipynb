{
 "cells": [
  {
   "cell_type": "markdown",
   "id": "c8da09c8",
   "metadata": {},
   "source": [
    "### Find the least positive integer in the given list."
   ]
  },
  {
   "cell_type": "markdown",
   "id": "49d2993f",
   "metadata": {},
   "source": [
    "In the given list find the least positive integer which is not present in the list."
   ]
  },
  {
   "cell_type": "code",
   "execution_count": 1,
   "id": "780941d1",
   "metadata": {},
   "outputs": [],
   "source": [
    "x = [3, -9, 8, -1, 0,-2, 2, 5 , 1]"
   ]
  },
  {
   "cell_type": "markdown",
   "id": "100850ad",
   "metadata": {},
   "source": [
    "### Code:"
   ]
  },
  {
   "cell_type": "code",
   "execution_count": 3,
   "id": "b3ccd885",
   "metadata": {},
   "outputs": [
    {
     "name": "stdout",
     "output_type": "stream",
     "text": [
      "4\n"
     ]
    }
   ],
   "source": [
    "a = max(x)\n",
    "\n",
    "for i in range(0,a+1):\n",
    "    if i not in x:\n",
    "        print(i)\n",
    "        break"
   ]
  },
  {
   "cell_type": "code",
   "execution_count": 4,
   "id": "7e516899",
   "metadata": {},
   "outputs": [],
   "source": [
    "x = [0,2,1,2,0]"
   ]
  },
  {
   "cell_type": "code",
   "execution_count": 5,
   "id": "221efcac",
   "metadata": {},
   "outputs": [
    {
     "data": {
      "text/plain": [
       "[0, 0, 1, 2, 2]"
      ]
     },
     "execution_count": 5,
     "metadata": {},
     "output_type": "execute_result"
    }
   ],
   "source": [
    "sorted(x)"
   ]
  }
 ],
 "metadata": {
  "kernelspec": {
   "display_name": "Python 3 (ipykernel)",
   "language": "python",
   "name": "python3"
  },
  "language_info": {
   "codemirror_mode": {
    "name": "ipython",
    "version": 3
   },
   "file_extension": ".py",
   "mimetype": "text/x-python",
   "name": "python",
   "nbconvert_exporter": "python",
   "pygments_lexer": "ipython3",
   "version": "3.9.12"
  }
 },
 "nbformat": 4,
 "nbformat_minor": 5
}
