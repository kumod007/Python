{
 "cells": [
  {
   "cell_type": "markdown",
   "id": "c25eb2ab",
   "metadata": {},
   "source": [
    "### Question:"
   ]
  },
  {
   "cell_type": "markdown",
   "id": "54401376",
   "metadata": {},
   "source": [
    "* Write a Python function to get a string made of 4 copies of the last two characters of a specified string (length must be at least 2).  \n",
    "\n",
    "\n",
    "* Sample function and result :\n",
    "* insert_end('Python') -> onononon\n",
    "* insert_end('Exercises') -> eseseses"
   ]
  },
  {
   "cell_type": "markdown",
   "id": "7ddf9ff3",
   "metadata": {},
   "source": [
    "### Code:"
   ]
  },
  {
   "cell_type": "code",
   "execution_count": 1,
   "id": "91132d29",
   "metadata": {},
   "outputs": [],
   "source": [
    "def insert_end(x):\n",
    "    z=\"\"\n",
    "    for i in range(4):\n",
    "        z+=x[-2:]\n",
    "    return z"
   ]
  },
  {
   "cell_type": "code",
   "execution_count": 2,
   "id": "a4d51342",
   "metadata": {},
   "outputs": [
    {
     "data": {
      "text/plain": [
       "'onononon'"
      ]
     },
     "execution_count": 2,
     "metadata": {},
     "output_type": "execute_result"
    }
   ],
   "source": [
    "insert_end(\"Python\")"
   ]
  },
  {
   "cell_type": "code",
   "execution_count": 3,
   "id": "d2d3d07d",
   "metadata": {},
   "outputs": [
    {
     "data": {
      "text/plain": [
       "'eseseses'"
      ]
     },
     "execution_count": 3,
     "metadata": {},
     "output_type": "execute_result"
    }
   ],
   "source": [
    "insert_end(\"Exercises\")"
   ]
  }
 ],
 "metadata": {
  "kernelspec": {
   "display_name": "Python 3 (ipykernel)",
   "language": "python",
   "name": "python3"
  },
  "language_info": {
   "codemirror_mode": {
    "name": "ipython",
    "version": 3
   },
   "file_extension": ".py",
   "mimetype": "text/x-python",
   "name": "python",
   "nbconvert_exporter": "python",
   "pygments_lexer": "ipython3",
   "version": "3.9.12"
  }
 },
 "nbformat": 4,
 "nbformat_minor": 5
}
