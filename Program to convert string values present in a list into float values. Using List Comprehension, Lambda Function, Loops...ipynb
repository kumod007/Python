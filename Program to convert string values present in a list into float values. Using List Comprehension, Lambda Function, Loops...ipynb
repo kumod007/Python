{
 "cells": [
  {
   "cell_type": "markdown",
   "id": "81aea4a9",
   "metadata": {},
   "source": [
    "### Question:"
   ]
  },
  {
   "cell_type": "markdown",
   "id": "b95d8397",
   "metadata": {},
   "source": [
    "* L=[“5’2”,”8’9”,”90’4”] convert this into L==[5.2,8.9,90.4]"
   ]
  },
  {
   "cell_type": "markdown",
   "id": "0b20f642",
   "metadata": {},
   "source": [
    "### Code 1 (List Comprehension)"
   ]
  },
  {
   "cell_type": "code",
   "execution_count": 6,
   "id": "6c5baaeb",
   "metadata": {},
   "outputs": [
    {
     "name": "stdout",
     "output_type": "stream",
     "text": [
      "[5.2, 8.9, 90.4]\n"
     ]
    }
   ],
   "source": [
    "L = [\"5'2\",\"8'9\",\"90'4\"]\n",
    "\n",
    "x = [float(i.replace(\"'\",\".\")) for i in L]\n",
    "print(x)"
   ]
  },
  {
   "cell_type": "markdown",
   "id": "b09ec6b4",
   "metadata": {},
   "source": [
    "### Code 2 (Lambda Function)"
   ]
  },
  {
   "cell_type": "code",
   "execution_count": 10,
   "id": "1423beb6",
   "metadata": {},
   "outputs": [
    {
     "name": "stdout",
     "output_type": "stream",
     "text": [
      "[5.2, 8.9, 90.4]\n"
     ]
    }
   ],
   "source": [
    "L = [\"5'2\",\"8'9\",\"90'4\"]\n",
    "\n",
    "x = list(map(lambda x: float(x.replace(\"'\",\".\")) ,L))\n",
    "print(x)"
   ]
  },
  {
   "cell_type": "markdown",
   "id": "f760a587",
   "metadata": {},
   "source": [
    "### Code 3 (For Loop)"
   ]
  },
  {
   "cell_type": "code",
   "execution_count": 7,
   "id": "037afc34",
   "metadata": {},
   "outputs": [
    {
     "name": "stdout",
     "output_type": "stream",
     "text": [
      "[5.2, 8.9, 90.4]\n"
     ]
    }
   ],
   "source": [
    "L = [\"5'2\",\"8'9\",\"90'4\"]\n",
    "x = []\n",
    "\n",
    "for i in L:\n",
    "    i=i.replace(\"'\",\".\")\n",
    "    x.append(float(i))\n",
    "print(x)"
   ]
  }
 ],
 "metadata": {
  "kernelspec": {
   "display_name": "Python 3 (ipykernel)",
   "language": "python",
   "name": "python3"
  },
  "language_info": {
   "codemirror_mode": {
    "name": "ipython",
    "version": 3
   },
   "file_extension": ".py",
   "mimetype": "text/x-python",
   "name": "python",
   "nbconvert_exporter": "python",
   "pygments_lexer": "ipython3",
   "version": "3.9.12"
  }
 },
 "nbformat": 4,
 "nbformat_minor": 5
}
