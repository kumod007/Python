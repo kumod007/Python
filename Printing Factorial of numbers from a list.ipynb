{
 "cells": [
  {
   "cell_type": "markdown",
   "id": "07bc841a",
   "metadata": {},
   "source": [
    "* Write a program which can compute the factorial of a given numbers. The results should be printed in a comma-separated sequence on a single line. "
   ]
  },
  {
   "cell_type": "markdown",
   "id": "5a05716e",
   "metadata": {},
   "source": [
    "### logic:- 1"
   ]
  },
  {
   "cell_type": "code",
   "execution_count": 9,
   "id": "72176c77",
   "metadata": {},
   "outputs": [
    {
     "name": "stdout",
     "output_type": "stream",
     "text": [
      "Enter your numbers with space separated: 5 6 8\n",
      "\n",
      "Factorial of given numbers are: (120, 720, 40320)\n"
     ]
    }
   ],
   "source": [
    "x = list(map(int,input(\"Enter your numbers with space separated: \").split()))\n",
    "z = []\n",
    "fact=1\n",
    "\n",
    "for i in range(len(x)):\n",
    "    fact=1\n",
    "    for j in range(x[i],0,-1):\n",
    "        fact*=j\n",
    "    z.append(fact)\n",
    "print(\"\\nFactorial of given numbers are:\",tuple(z))"
   ]
  }
 ],
 "metadata": {
  "kernelspec": {
   "display_name": "Python 3 (ipykernel)",
   "language": "python",
   "name": "python3"
  },
  "language_info": {
   "codemirror_mode": {
    "name": "ipython",
    "version": 3
   },
   "file_extension": ".py",
   "mimetype": "text/x-python",
   "name": "python",
   "nbconvert_exporter": "python",
   "pygments_lexer": "ipython3",
   "version": "3.9.12"
  }
 },
 "nbformat": 4,
 "nbformat_minor": 5
}
